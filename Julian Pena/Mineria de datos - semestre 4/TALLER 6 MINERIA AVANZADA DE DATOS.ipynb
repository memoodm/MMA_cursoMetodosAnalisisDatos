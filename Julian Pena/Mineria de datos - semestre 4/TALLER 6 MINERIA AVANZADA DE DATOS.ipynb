{
 "cells": [
  {
   "cell_type": "markdown",
   "metadata": {},
   "source": [
    "# TALLER 6 JULIAN PENA"
   ]
  },
  {
   "cell_type": "code",
   "execution_count": 74,
   "metadata": {},
   "outputs": [],
   "source": [
    "import pandas as pd\n",
    "import numpy as np\n",
    "import matplotlib.pyplot as plt"
   ]
  },
  {
   "cell_type": "code",
   "execution_count": 75,
   "metadata": {},
   "outputs": [],
   "source": [
    "df_col= pd.read_csv(\"ColombiaCB.csv\")\n",
    "df_col[\"Country\"] = \"Colombia\""
   ]
  },
  {
   "cell_type": "code",
   "execution_count": 76,
   "metadata": {},
   "outputs": [
    {
     "data": {
      "text/plain": [
       "array(['La Haus', 'Elenas', 'Dondo', 'Tpaga', 'Aflore', 'Backstartup',\n",
       "       'Polymath Ventures', 'Liftit', 'Chiper', 'Habi', 'Valiu', 'Rappi',\n",
       "       'RobinFood', 'Zinobe', 'Tul', 'Mensajeros Urbanos', 'Omni Latam',\n",
       "       'LAIKA', 'Finsocial', 'Vozy', 'Leal', 'UBITS', 'Superfuds',\n",
       "       'Cubbo', 'Maestrik', 'Avista', 'Truora', 'Rebus Technology',\n",
       "       'Ayenda Hotels', 'Finaktiva', 'ontop', 'Sempli', 'FLUVIP',\n",
       "       'Demetria', 'Lentesplus', 'Bold', 'Mi Aguila', 'Foody',\n",
       "       'MO Tecnologias', 'Farmalisto', 'LifeMiles', 'Mercadoni', 'Minka',\n",
       "       'Domicilios.com', 'Picap', 'Simetrik', 'BEWE (formerly miora)',\n",
       "       'Foodology', '1DOC3', 'CelerSMS', 'Peiky', 'Tributi', 'Aptuno',\n",
       "       'Finco.co', 'Cobre', 'Rayo Credit Colombia', 'BioCredit',\n",
       "       'doc-doc', 'Awake', 'CIVICO', 'LOGYSTO', 'Frubana', 'mesfix',\n",
       "       'Avianca Holdings', 'Addi', 'Viva Air', 'LastFood', 'Fitpal',\n",
       "       'Todos Comemos', 'Melonn', 'MUVO', 'Telemetrik', 'Ole', 'Neivor',\n",
       "       'Puntored', 'Mandaos', 'Qinaya', 'Acsendo',\n",
       "       'Alegra, sistema contable, administrativo y de facturación',\n",
       "       'Táximo', 'Loro', 'Autolab', 'Valienta', 'SURA Asset Management',\n",
       "       'Tranqui', 'LoQueNecesito.co', 'Credivalores-Crediservicios',\n",
       "       'Virgin Mobile Latin America', 'Canacol Energy', 'Datawifi',\n",
       "       'EdgeUno', 'ImagineX', 'Linxe', 'Nethub', 'Saludtools', 'mi.tv',\n",
       "       'Hometuls', 'ERCO', 'Valtik Foods', 'Licify', 'Ocensa', 'ePayco',\n",
       "       'Crezcamos', 'Brainz Games', 'Cajero', 'arKdia', 'Xertify',\n",
       "       'Shalder', 'Pidefarma', 'Peris Costumes', 'Boro', 'Viajala',\n",
       "       'Neumarket', 'ProductividApp', 'Blueberries Medical Co.', 'DataTF',\n",
       "       'Bluspot', 'Azahar Coffee', 'Interacpedia', 'HoyTrabajas.com',\n",
       "       'Zwapp', 'Red Mapache', 'Neoalgae', 'Reciclados Industriales',\n",
       "       'Treinta', 'Tusdatos.co', 'Ressolve', 'NEU Energy', 'TOMi', 'Savy',\n",
       "       'B2Chat', 'Enlau', 'TA Edison SAS', 'Chepe & Pepe', 'MAT', 'Mía',\n",
       "       'Cycle', 'QUEO', 'ESCALA EDUCACION', 'Work.r', 'trii', 'AllFreed',\n",
       "       'Kiosco', 'Tourbitz', 'Ecociclus', 'NIPU', 'Deleyes', 'Bazurto',\n",
       "       'Pina Media', '2Transfair', 'Espacios Digitales IoT',\n",
       "       'ComparaMejor.com', 'ASH Capital', 'StartOp', 'ArmaTuVaca',\n",
       "       'Ropeo', 'Ormigga', 'Vendty', 'VincuVentas', 'Frank de Paula',\n",
       "       'Kindery', 'Enmedio', 'Contratan.do', 'Fináncialo Mejor', 'Sammu',\n",
       "       'Tribo', 'StartBull', 'We Are Content LLC', 'Soy Startup Latam',\n",
       "       'SafeTalpa', 'Tarefa.co', 'Betriax', 'Agros', 'Sarta', 'Loopa',\n",
       "       'Omni', 'Izzy Money', 'Appflow', 'Ekkofy', 'Vosavos',\n",
       "       'Mis Finanzas Personales', 'Franquicias LATAM', 'Nibi',\n",
       "       'TrendyTrade', 'Protraffic', 'INplaza', 'DATELLIGENCE',\n",
       "       'KADU Collect', 'Nomad List', 'Tuseguro.com', 'Grupo SURA',\n",
       "       'EFY EASY FOR YOU', 'Dash', 'MOONBLOCK', 'Amolatina', 'dondoctor',\n",
       "       'Veronorte', 'Bluma', 'Grupo Nutresa', 'Treble.ai',\n",
       "       'Cositas de España', 'MUNCHER', 'MENTe Labs', 'GRUPO BANCOLOMBIA',\n",
       "       'Vennta.com', 'Protesis Avanzadas SAS', 'FSS', 'iFut', 'Trivoro',\n",
       "       'Discrepante.com', 'Ecopetrol', 'Fleck - The Bigger Picture',\n",
       "       'Mi Plaza', 'Ocico Pet Care', 'Siigo', 'Sophos Solutions SAS',\n",
       "       'Om3ga solution', 'Fútbol Fit Club', 'Vivexcel',\n",
       "       'Thought Network S.A.S', 'UALET', 'Vitaclick', 'Bankity',\n",
       "       'OFERTALDIA', 'PanTrek', 'Granos Andinos de Colombia', 'Medpike',\n",
       "       'Corona', 'PTK S.A.S.', 'Usetime', 'Esri', 'Mobii', 'Fithub',\n",
       "       'Mowies', 'tuta.co', 'PrimeStone', 'Eslik', 'codetag',\n",
       "       'Houstronomy', 'RapiCredit', 'Coink', 'Quick', 'Pencil App',\n",
       "       'Reddi Colombia', 'Internet World Stats - IWS', 'Movii', 'Nequi',\n",
       "       'Symplifica', 'SinRopa', 'Flexus Group', 'Tus reQRdos',\n",
       "       'LaManicurista', 'BikeExchange', 'NUA Technology',\n",
       "       'Caracol Television', 'Digital Ware', 'Moviired', 'Talentu',\n",
       "       'eduNEXT', 'Wall Street International', 'StartupCali', 'Publicize',\n",
       "       'Colombia Fintech', 'Vaki', 'Downloadperu.com', 'Keralty',\n",
       "       'Agrapp', 'Credyty', 'Aldeamo', 'Oppten', 'TiendAPP', 'Cingle',\n",
       "       'Celotor', 'Biometric Update', 'Fincaraiz', 'Arukay', 'Glya',\n",
       "       'myband.is', 'Icanbesponsored',\n",
       "       'FCP Emprendimiento e Innovación SP', 'UNE EPM Telecomunicaciones',\n",
       "       'Bolsa de Valores de Colombia', 'WOWPark',\n",
       "       'Alpina Productos Alimenticios', 'LeanTech', 'Makrwatch',\n",
       "       'PlacetoPay', 'Barrabes', 'Nexsys', 'Talos Digital',\n",
       "       'Amazing Soul Games', 'Nuevos Horizontes de Información', 'Banky',\n",
       "       'ACREDITTA', 'StudioSnaps', 'Crepes & Waffles', 'Pulzo',\n",
       "       'coworkYA!', 'Tappsi', 'Infotech', 'Nubloq', 'Semana',\n",
       "       'Top Doctors', 'Cocinas Ocultas', 'Pimes', 'Whale & Jaguar',\n",
       "       'Jetsemani Travel Services', 'Banco de Bogotá', 'Busqo', 'Waruwa',\n",
       "       'MediaVest', 'El Espectador', 'Porter Metrics', 'Drizip', 'WinAd',\n",
       "       'Pirsonal', 'Porvenir S.A.', 'CUL', 'Celsia', 'ZEturf', 'Wasi',\n",
       "       'VirtualEL', 'Andina Acquisition Corp', 'Presshunt', 'Gulungo',\n",
       "       'Banco AV Villas', 'Avianca', 'Peewah', 'Partsium', 'Ctzen',\n",
       "       'Credi Banco', 'Netux', 'Boxi Sleep', 'NativApps', 'Onyx',\n",
       "       'Novasoft', 'Quala', 'Alert Global Media', 'Juan Valdez Cafe',\n",
       "       'WeKall', 'Panda Exchange', 'Nelo Group', 'Banlinea', 'Biopas',\n",
       "       'Grupo Bolivar', 'Payvalida', 'Intergrupo', 'Loggro',\n",
       "       'Celucambio.com', 'Celsius S.A.S.',\n",
       "       'POC Network Technologies (TransactRx)',\n",
       "       'DeepSea Developments Inc.', 'Poetri', 'WorkUniversity',\n",
       "       '1Ecommerce', 'Apps.co', 'Procaps', 'Productora de Software',\n",
       "       'SICEX', 'VICO', 'Biz Latin Hub', 'Calipso', 'Carousel Group',\n",
       "       'ecollect', 'NetM', 'LiciMatic', 'ZIO Studios', 'Geniusly',\n",
       "       'IMIX Consulting', 'Miguel Caballero', 'IMUSA S.A.',\n",
       "       'The Sociable', 'Boardwalk REIT', 'Escappy',\n",
       "       'GOCARGO PLATAFORMA S.A.S.', 'Ruta N', 'Swiset',\n",
       "       'Banco de Occidente, S.A.', 'Empresas Públicas de Medellín (EPM)',\n",
       "       'O4IT', 'AKT motos', 'FC', 'Grupo Sala', 'Skillet app', 'Suyo',\n",
       "       'Collectpay', 'InOut Delivery', 'Khiron', 'Talentbox',\n",
       "       'PagosOnLine', 'BANCO POPULAR SA', 'Cementos Argos',\n",
       "       'Conceptos Plasticos', 'Wigilabs', 'Claro Colombia', 'Colombia.co',\n",
       "       'Hocol Petroleum Ltd.', 'Postobon', 'Duety', 'INMOBO', 'Isagen',\n",
       "       'WORLD COMPLIANCE ASSOCIATION', 'Workia', 'Cargex',\n",
       "       'JuanchoTePresta', 'Geomedical.co', 'Pineapple.build',\n",
       "       'Billy Facturex', 'Lifeafar', 'Digital Fair Business',\n",
       "       'Grupo Carvajal', 'Fenix Colombia S.A.S.', 'PrestaGente',\n",
       "       'PúbliKo', 'Yimup', 'Clupik', 'Playcard', 'Human Bionics',\n",
       "       'Pago Digital', 'HubBOG', 'Terpel', 'Sapco', 'Ktronix',\n",
       "       'Grupo Bernier', 'Oiga Technologies', 'Profy', 'FinanCash',\n",
       "       'Callisto Network', 'Imagine Apps', 'Filecubed', 'KCP Dynamics',\n",
       "       'Sumatec', 'Intelligent Trading Machines', 'Jolly Joker',\n",
       "       'Club Frubana', 'Grupo Argos', 'Elm', 'QBCo', 'Aulas AMiGAS',\n",
       "       'Fox Telecolombia', 'Lynks', 'Ideaware', 'Servinformación',\n",
       "       'Bioprocol', 'Fruktal', 'CiudaddeMascotas.com', 'ControlT',\n",
       "       'Vlipco', 'Smart Commerce', 'Appto', 'Tecnotitan S.A.S',\n",
       "       'Digiware', 'Giros Y Finanzas Compania de Financiamiento SA',\n",
       "       'Mesa 24/7', 'Cultivando Futuro', 'Cubbi.co', 'Spin Quantum Tech',\n",
       "       'Kredicity', 'Biva', 'Switch AI', 'Bancamia', 'scoutinglabs',\n",
       "       'Vanguardia', 'WhosYourGuest', 'JULIUS', 'Sindyk', 'Nivelics',\n",
       "       'Quipux', 'Impaktu', 'Lafam', 'AppetiTU', 'TINGO',\n",
       "       'Máquina de Vendas', 'Banco Davivienda', 'Hoteles Royal SA',\n",
       "       'Industries Partmo', 'El Corral', 'La Mayorista', 'Inova House 3D',\n",
       "       'Geomodelr, Inc', 'Banco WWB Colombia', 'Ecoflora Cares', 'Pilalá',\n",
       "       'OLSOFTWARE', 'Uprop', 'Pollos Frisby', 'MILL', 'Red Rock',\n",
       "       'Agencia de Marketing Digital', 'FTC Energy Group', 'mRisk',\n",
       "       'Holding Digital', 'Cocodrilo Dog', 'Juanregala',\n",
       "       'Seguridad industrial FERYSEG SAS', '24marine', 'Novatio',\n",
       "       'BioStevia SAS', 'Aviatek Group', 'BCPartners Tech', 'Rastrack',\n",
       "       'Courbox', 'Uptime Analytics', 'Acqualia',\n",
       "       'Aktiva Servicios Financieros', 'Photogramy', 'Pratech Group',\n",
       "       'Colombia Reports', 'Misty Cream', 'Feelenials', 'Sequoia Space',\n",
       "       'Aequitas.Ventures', 'tuToque', 'ENTER.CO', 'JOONIK',\n",
       "       'Ingeneo S.A.S', 'Haceb', 'Aspyre Solutions', 'Greendipity',\n",
       "       'ASSURE IT', '2PuntoCero Agencia de Marketing Digital',\n",
       "       'MDALatam University', 'Elemento Alpha', 'Igloo Lab', 'Sciphage',\n",
       "       'Teate Colombia', 'DroneSky', 'apptaizer', 'Ipsum Clinical',\n",
       "       'GK Media Holding', 'Incluirtec', 'Pactia', 'i3net', 'Axede',\n",
       "       'Canal Digital', 'MiHoraTuHora', 'Advanet', 'Invest in Bogota',\n",
       "       'Amis', 'E-ME', 'Orion Infiniti', 'Doggiapp', 'Edge', 'Dynt',\n",
       "       'Servientrega', 'conTREEbute', 'Unido Digital S.A.S.', 'Tutorya',\n",
       "       'Santa Cruz Farms', 'Canal Capital', 'Pródigos',\n",
       "       'Big Picture Solutions', 'CINTEL Colombia', 'BOP Consultoria',\n",
       "       'Geelbe', 'Asesoftware', 'Go to Gym Sportswear as a Service',\n",
       "       'Waytic', 'Logyca', 'Tus Abogados y Contadores', 'Teka Capital',\n",
       "       'Ebenezer Technologies', 'Almacenes Éxito', 'BIG PASS S.A.',\n",
       "       'PADS', 'Internexa', 'Operad', 'Pulse Software', 'SkyFunders',\n",
       "       'Positive ID', 'BD Sensors', 'GDX Travel', 'Autopagos',\n",
       "       'Caja Los Andes', 'Quibee - La Ruta de la Miel',\n",
       "       'Marketplace Colombia', 'Vivero', 'Starbox', 'APIX', 'Hola Luka',\n",
       "       'Pediidos', 'Expertechs', 'Aboutti', 'Pagomío', 'Lumni Colombia',\n",
       "       'Kudos', 'Truland Service Corporation', 'IRIX', 'SimpleAgri',\n",
       "       'Consulti', 'Q.coffee', 'TurboBOY', 'Buzi', 'Interconexion Elec',\n",
       "       'Innhealth', 'Interpagos', 'Aurora', 'Dalta', 'Contactar',\n",
       "       'El Herald', 'Lezag - Superbeauty', 'Junta de Andalucía',\n",
       "       'bodaplanes', 'Nuevosmedios', \"Jeno's Pizza\", 'ItPerforma',\n",
       "       'Sicartsa', 'Direktio', 'RedSeguro',\n",
       "       'Agency for Cooperation and Investment',\n",
       "       'Two To Tango Business Matching',\n",
       "       'Colombia Ministry of Health and Social Protection', 'Eventech',\n",
       "       'Latin Hosts', 'Seguros Bolívar', 'GreenSQA', 'Iconshock',\n",
       "       'PetroTiger', 'Alquilamos Amoblados', 'Dhamova, Inc', 'Propiedata',\n",
       "       'Go Marketing', 'Runer', 'treebox',\n",
       "       'Alan González Cirugía Plástica & Tratamientos Estéticos IPS S.A.S.',\n",
       "       'Ferrisland', 'Suaval Group', 'Finnova Fintech', 'Tecnoglass',\n",
       "       'Startics', 'Citypoints', 'Computec', 'Andean Cacao',\n",
       "       'D&M Software Solutions', 'Room4 Media', 'Colbits', 'Dupree',\n",
       "       'Duis', 'Volmand', 'Milmenus.com',\n",
       "       'Fundación Colombiana de Hipertensión Pulmonar', 'Tabibito',\n",
       "       'Nivel Siete', 'Biosuministros Hospitalarios', 'Fly North',\n",
       "       'Pinnery', 'BioPlaza', 'Delyfas', 'Amobile', 'DocManager', 'TSI',\n",
       "       'Corficolombiana', 'Mobile Dreams ltd.', 'NoTeCuelgues.com',\n",
       "       'Indexcol', 'Acuacare', 'Dymaxion S.A.S.', 'Indumil', 'Imaginamos',\n",
       "       'Cognox', 'LoAlkilo', 'Market Over Video', 'La Cesteria',\n",
       "       'Mobijob', 'VELAIO', 'Funny', 'Satrack',\n",
       "       'Fabrica Nacional de Grasas S.A. (FANAGRA)', 'Printu Colombia',\n",
       "       'Sumame.co', 'Proalnet', 'entreArquitectos', 'Diseclar',\n",
       "       'HomeSquad', 'Ccoins', '4Direcciones', 'SocialGeo', 'Cocina Mejor',\n",
       "       'Cannvest', 'PROCOLOMBIA', 'Klaxen', 'Sigma Movil', 'Offrie',\n",
       "       'Axon e-health', 'Kreativos.net S.A.S Agencia Digital', 'Trulii',\n",
       "       'Productora Tabacalera de Colombia', 'Vendiste.com',\n",
       "       'Triplany.com', 'Dconfianza', 'Inncubated', 'ROAD TRAVEL',\n",
       "       'Gas Natural Esp', 'DoctorApp', 'Ennovva', 'Festa', 'MAKAIA',\n",
       "       'Heinsohn', 'Off Bound Adventures', 'Toomga', 'Oye Marco',\n",
       "       'Advector', 'TermoYopal', 'NovaIntegra',\n",
       "       'Universidad de La Sabana', 'LookApp',\n",
       "       'Ecoproyectos - Sistemas de Aire Acondicionado', 'aeioTu',\n",
       "       'CreaTIC', 'Carros.com.co', 'hogar.IO', 'MiNCi',\n",
       "       'Pentagon Performance', 'Mensajeros ASAP', 'Colombia Games S.A.S',\n",
       "       'Epica Labs', 'Casaval S.A', 'Ozon Mobility', 'SEO Colombia',\n",
       "       'LogicalSoft', 'ImageID', 'Helppeople Cloud', 'Cuponidad',\n",
       "       'Redeban', 'Rivendel Studio', 'Seak', 'Arquitectura y Concreto',\n",
       "       'InduPro',\n",
       "       'Fundacion de Estudios Superiores Monseñor Abraham Escudero Montoya',\n",
       "       'Seed', 'Vitriovr', 'Vortexbird', 'Productos Ramo',\n",
       "       'Consulta Especialistas', 'Token Sport', 'OhmyFi', 'Apprende',\n",
       "       'Timba', 'Startups Academy', 'MAMBO Studio', 'Finaxion',\n",
       "       'Wondertech', 'Exea Media', 'buenaPeople',\n",
       "       'Two Inc - Agencia de Marketing Digital', 'ChartBRAIN',\n",
       "       'Deitek Systems', 'Colchones REM', 'Dripti', 'Grupo Bit',\n",
       "       'Ona Systems', 'Homeland Security Careers', 'Revista Gamers-On',\n",
       "       'Brand Solutions', 'Sense Digital', 'Merkadoo',\n",
       "       'Siglo Data + Hallon', 'El Tiempo', 'Renewable Energy Magazine',\n",
       "       'Agilitix', 'Odinsa', 'Hablando con Julis', 'Xpertz', 'Keraderm',\n",
       "       'AndesTransit', 'Ortodoncia Invisible Habib Barhoum',\n",
       "       'DigitalStereo Fm', 'Refinancia', 'Distilled Innovation',\n",
       "       'Stream LatinoStream Latino', 'CityScan', 'BattleBit',\n",
       "       'Connect my Dog', 'Dinámetro', 'AseoYa!', 'Oglit',\n",
       "       'AmforaPackaging', 'David Espinosa Acuña & Asociados S.A.S',\n",
       "       'Banco Credifinanciera', 'Snacks America Latina Peru S.R.L.',\n",
       "       'ComWare', 'Acercasa', 'Diana Corporacion S.A', 'Digital57',\n",
       "       'Bioin Soluciones', 'Permalink S.A.S',\n",
       "       'Interactivo Contact Center', 'LIFT Partners',\n",
       "       'Synergy Research & Development Group', '2ºC POWER', 'Periplia',\n",
       "       'Globalwork', 'Transport Systems', 'AppleMania',\n",
       "       'Punto Cardinal Comunicaciones', 'AutoPOS by DesApp', 'Sanaty IPS',\n",
       "       'Tu Compra', 'BeyondROI', 'Clouxter', 'Greenwood Energy',\n",
       "       'ChinChin E-BAR', 'BuenaMarca.com', 'Clinical Travel', 'TDX',\n",
       "       'Spark', 'Alkilautos', 'BEXTechnology', 'Cgurro', 'ArthroFood',\n",
       "       'Micrositios', 'Corporación Universitaria de la Costa',\n",
       "       'Keep Agencia LLC', 'Invest Latam', 'Tiresia', 'Hybrytec Solar',\n",
       "       'Incocredito', 'LatinMedios', 'Ecoeffy',\n",
       "       'Credicorp Capital Fiduciaria', 'AXON AI',\n",
       "       'Tránsito Bogotá - Trámites de Tránsito y Transporte',\n",
       "       'Organizacion Ardila Lulle', 'Seven4N',\n",
       "       'Universidad de Ciencias Aplicadas y Ambientales',\n",
       "       'Interamerican Association for Environmental Defense',\n",
       "       'Controles Empresariales', 'Consultoria y Servicios Informáticos',\n",
       "       'MV Perception', 'Cohett', 'OvaXion', 'Vanguard Technologies',\n",
       "       'Asweb.co', 'Ideatech', 'Eforcers', 'Banco Finandina',\n",
       "       'Mango Tango Shop', 'Colpatria', 'Transfiriendo', 'Caracol Radio',\n",
       "       'Su Vivienda', 'DASHFLEET', 'Pasion Prepagos', 'Litigo',\n",
       "       'Davivienda Corredores', 'Manuelita', 'Osteoplastics',\n",
       "       'Gutierrez Group', 'Takub', 'We Are Angular', 'Fiduprevisora',\n",
       "       'SMk Online', 'SetHunt', 'STP Networks', 'VitriCristales',\n",
       "       'Hi Mom S.A.S', 'La liga D', 'Carulla Vivero S.A.', 'HorseShop',\n",
       "       'Originar Soluciones', 'SIE Software', 'B1G Digital Agency',\n",
       "       'Casaplus', 'ThanksToYou', 'EasyFly', 'Digitarianos', 'LAGUARDIA',\n",
       "       'Colombia Cooking Experience', 'Ideoviral', 'getmipulpa',\n",
       "       'Banco Caja Social', 'Galf', 'Inmobilio.co', 'BBVA Colombia',\n",
       "       'DbaExperts Tech', 'Boletos Qubit (Qubit Smart Tickets)',\n",
       "       'Inmoblex', 'KZlabs', 'Estrenar Vivienda', 'LocalXXL', 'Mi Kit',\n",
       "       'RevisteroVirtual', 'JAVEBRATT', 'Takúm Solutions', 'SAMAR IPS',\n",
       "       'Dweb3d.Diseño Web', 'Aseguradora Solidaria de Colombia',\n",
       "       'Espacio', 'Geoestate', 'Transformadores Suntec', '1/4Tech',\n",
       "       'Evoluciona Diseño y Posicionamiento Web', 'Green Assistance',\n",
       "       'Grupoi33', 'AG Group', 'El inmobiliario mes a mes',\n",
       "       'Infoexim.com', 'RE/MAX Coffee Realty',\n",
       "       'Monomeros Colombo Venezolano', 'Discovery & Watch',\n",
       "       'TeRecomiendo.com', 'Grupo Trébol Comunicaciones', 'VETRA Energía',\n",
       "       'Trixel Creative',\n",
       "       'Radikal Agency, Agencia de Marketing en Colombia', 'Bioestibas',\n",
       "       '1001talleres', 'Omolds', 'Cotech', 'Plastic Surgery Colombia',\n",
       "       'InSight Crime', 'Findet', 'National Guarantees Fund',\n",
       "       'Clínica Bellatirz', 'Helados La Fresita', 'Monolegal',\n",
       "       'Biz Online Marketing', 'Core Business Consulting', 'keaioi',\n",
       "       'OS Group', 'GGBOX', 'AXA COLPATRIA', 'Gestion Legal Colombia',\n",
       "       'Grupo Energía Bogotá', 'Carulla', 'O-lab App',\n",
       "       'Fiduciaria Bogota', 'Polipropileno Del Caribe S.A.', 'Saeta',\n",
       "       'Macrotics', 'Parroquia San Agustín', 'Computerworld Colombia',\n",
       "       'AxiaCore', 'datosmacro', 'Fianzacrédito', 'PerfilTIC', 'Midder',\n",
       "       'Bogota Travel Guide', 'La Ruta', 'Pandup', 'Acciones & Valores',\n",
       "       'Onest Negocios de Capital', 'Amadeus IT Group Colombia',\n",
       "       'SiembraCo', 'Bancavalor', 'J4 System Solutions', 'Metalks',\n",
       "       'Sonae Industria SGPS SA', 'Blinsoft', 'ACONMB', 'LittleBigMoney',\n",
       "       'Acceleratus', 'Capital Empreendedora', 'Cointer',\n",
       "       'Process OnLine', 'TotalCode', 'LaLicorera.com',\n",
       "       'Recepciones en Bogotá', 'Zalvadora',\n",
       "       'Bank of the Republic Colombia', 'Lineas Aereas Suramericanas',\n",
       "       'Emcali', 'Meal 9', 'Value4Chain', 'Covinoc', 'Inter-Letrado',\n",
       "       'Alivir Natural', 'Puravida Software', 'PlisTube', 'Consultia IT',\n",
       "       'Compania Colombiana de Tabaco S.A.S.', 'Geoprocess',\n",
       "       'elvecino digital', 'GuiltFree', 'Bizglo.com', 'Togroow',\n",
       "       'ANDI del Futuro', 'Colombian Tourist', 'Robotec Labs',\n",
       "       'Peoplepass', 'Medcolcanna Organics Inc',\n",
       "       'Perfect Body Medical Center', 'ActiveHelper',\n",
       "       'Involto Diseño Web', 'Multivacaciones Decameron', 'Grupo Exito',\n",
       "       'Connecto', 'iCancha', 'integraIT', 'Loenvío', 'WindoTrader',\n",
       "       'Heapsource', 'Lex-Box', 'Worbunna', 'Flores Y Mas', 'Focus Data',\n",
       "       'Oficina Virtual', 'Uzer', 'Laboratorios Contecon Urbar'],\n",
       "      dtype=object)"
      ]
     },
     "execution_count": 76,
     "metadata": {},
     "output_type": "execute_result"
    }
   ],
   "source": [
    "df_col[\"Organization Name\"].unique()"
   ]
  },
  {
   "cell_type": "markdown",
   "metadata": {},
   "source": [
    "## Importamos de CBINSIGHTS Top Fintech Bogotá "
   ]
  },
  {
   "cell_type": "code",
   "execution_count": 77,
   "metadata": {},
   "outputs": [
    {
     "data": {
      "text/html": [
       "<div>\n",
       "<style scoped>\n",
       "    .dataframe tbody tr th:only-of-type {\n",
       "        vertical-align: middle;\n",
       "    }\n",
       "\n",
       "    .dataframe tbody tr th {\n",
       "        vertical-align: top;\n",
       "    }\n",
       "\n",
       "    .dataframe thead th {\n",
       "        text-align: right;\n",
       "    }\n",
       "</style>\n",
       "<table border=\"1\" class=\"dataframe\">\n",
       "  <thead>\n",
       "    <tr style=\"text-align: right;\">\n",
       "      <th></th>\n",
       "      <th>Companies</th>\n",
       "    </tr>\n",
       "  </thead>\n",
       "  <tbody>\n",
       "    <tr>\n",
       "      <th>0</th>\n",
       "      <td>Finsocial</td>\n",
       "    </tr>\n",
       "    <tr>\n",
       "      <th>1</th>\n",
       "      <td>A</td>\n",
       "    </tr>\n",
       "    <tr>\n",
       "      <th>2</th>\n",
       "      <td>Avista</td>\n",
       "    </tr>\n",
       "    <tr>\n",
       "      <th>3</th>\n",
       "      <td>La Haus</td>\n",
       "    </tr>\n",
       "    <tr>\n",
       "      <th>4</th>\n",
       "      <td>A</td>\n",
       "    </tr>\n",
       "    <tr>\n",
       "      <th>...</th>\n",
       "      <td>...</td>\n",
       "    </tr>\n",
       "    <tr>\n",
       "      <th>156</th>\n",
       "      <td>M</td>\n",
       "    </tr>\n",
       "    <tr>\n",
       "      <th>157</th>\n",
       "      <td>MovilPass</td>\n",
       "    </tr>\n",
       "    <tr>\n",
       "      <th>158</th>\n",
       "      <td>V</td>\n",
       "    </tr>\n",
       "    <tr>\n",
       "      <th>159</th>\n",
       "      <td>Vaki</td>\n",
       "    </tr>\n",
       "    <tr>\n",
       "      <th>160</th>\n",
       "      <td>Payvalida</td>\n",
       "    </tr>\n",
       "  </tbody>\n",
       "</table>\n",
       "<p>161 rows × 1 columns</p>\n",
       "</div>"
      ],
      "text/plain": [
       "     Companies\n",
       "0    Finsocial\n",
       "1            A\n",
       "2       Avista\n",
       "3      La Haus\n",
       "4            A\n",
       "..         ...\n",
       "156          M\n",
       "157  MovilPass\n",
       "158          V\n",
       "159       Vaki\n",
       "160  Payvalida\n",
       "\n",
       "[161 rows x 1 columns]"
      ]
     },
     "execution_count": 77,
     "metadata": {},
     "output_type": "execute_result"
    }
   ],
   "source": [
    "df_Col_Fintech= pd.read_csv(\"CBI_Col_Fintech.csv\")\n",
    "df_Col_Fintech"
   ]
  },
  {
   "cell_type": "markdown",
   "metadata": {},
   "source": [
    "### Veamos ahora el Dossier/reporte de estas compañias "
   ]
  },
  {
   "cell_type": "markdown",
   "metadata": {},
   "source": [
    "<img src=\"DOSIER1.png\">"
   ]
  },
  {
   "cell_type": "markdown",
   "metadata": {},
   "source": [
    "<img src=\"DOSIER2.png\">"
   ]
  },
  {
   "cell_type": "markdown",
   "metadata": {},
   "source": [
    "<img src=\"DOSIER3.png\">"
   ]
  },
  {
   "cell_type": "markdown",
   "metadata": {},
   "source": [
    "<img src=\"DOSIER4.png\">"
   ]
  },
  {
   "cell_type": "code",
   "execution_count": 78,
   "metadata": {},
   "outputs": [
    {
     "name": "stdout",
     "output_type": "stream",
     "text": [
      "[56] estan contenidas, [44] no estan contenidas\n",
      "41\n"
     ]
    },
    {
     "name": "stderr",
     "output_type": "stream",
     "text": [
      "<ipython-input-78-85927846e63a>:53: SettingWithCopyWarning: \n",
      "A value is trying to be set on a copy of a slice from a DataFrame.\n",
      "Try using .loc[row_indexer,col_indexer] = value instead\n",
      "\n",
      "See the caveats in the documentation: https://pandas.pydata.org/pandas-docs/stable/user_guide/indexing.html#returning-a-view-versus-a-copy\n",
      "  df_colombia_company[\"isInTop100\"] = 0\n",
      "C:\\Users\\Julian\\anaconda3\\lib\\site-packages\\pandas\\core\\indexing.py:1763: SettingWithCopyWarning: \n",
      "A value is trying to be set on a copy of a slice from a DataFrame.\n",
      "Try using .loc[row_indexer,col_indexer] = value instead\n",
      "\n",
      "See the caveats in the documentation: https://pandas.pydata.org/pandas-docs/stable/user_guide/indexing.html#returning-a-view-versus-a-copy\n",
      "  isetter(loc, value)\n"
     ]
    }
   ],
   "source": [
    "df_col= pd.read_csv(\"ColombiaCB.csv\")\n",
    "df_col[\"Country\"] = \"Colombia\"\n",
    "df_col= pd.read_csv(\"ColombiaCB.csv\")\n",
    "df_col[\"Country\"] = \"Colombia\"\n",
    "df_chi= pd.read_csv(\"ChileCB.csv\")\n",
    "df_chi[\"Country\"] = \"Chile\"\n",
    "df_bra= pd.read_csv(\"BrazilCB.csv\")\n",
    "df_bra[\"Country\"] = \"Brazil\"\n",
    "df_arg= pd.read_csv(\"ArgentinaCB.csv\")\n",
    "df_arg[\"Country\"] = \"Argentina\"\n",
    "df_mex= pd.read_csv(\"MexicoCB.csv\")\n",
    "df_mex[\"Country\"] = \"Mexico\"\n",
    "df_uru= pd.read_csv(\"UruguayCB.csv\")\n",
    "df_uru[\"Country\"] = \"Uruguay\"\n",
    "\n",
    "df_esp= pd.read_csv(\"SpainCB.csv\")\n",
    "df_esp[\"Country\"] = \"Spain\"\n",
    "df_sui= pd.read_csv(\"SwitzerlandCB.csv\")\n",
    "df_sui[\"Country\"] = \"Switzerland\"\n",
    "df_isr= pd.read_csv(\"IsraelCB.csv\")\n",
    "df_isr[\"Country\"] = \"Israel\"\n",
    "df_usa= pd.read_csv(\"UsaCB.csv\")\n",
    "df_usa[\"Country\"] = \"Usa\"\n",
    "df_all = pd.concat([df_col,df_chi,df_bra,df_arg, df_mex,df_uru, df_esp,df_sui, df_isr , df_usa] )\n",
    "df_all = df_all.drop([\"Organization Name URL\"], axis=1)\n",
    "df_all[\"Founded Date\"] = pd.to_datetime(df_all[\"Founded Date\"])\n",
    "df_all[\"Exit Date\"] = pd.to_datetime(df_all[\"Exit Date\"])\n",
    "df_all[\"Closed Date\"] = pd.to_datetime(df_all[\"Closed Date\"])\n",
    "df_all[\"Last Funding Date\"] = pd.to_datetime(df_all[\"Last Funding Date\"])\n",
    "df_all[\"Delisted Date\"] = pd.to_datetime(df_all[\"Delisted Date\"])\n",
    "df_all[\"IPO Date\"] = pd.to_datetime(df_all[\"IPO Date\"])\n",
    "df_startup = pd.read_excel(\"100startupcol.xlsx\", index_col= 0)\n",
    "df_startup =df_startup.rename(columns = {\"1Doc3\":\"Startup\"})\n",
    "df_col_top_100 = pd.merge(df_col, df_startup, left_on=\"Organization Name\", right_on= \"Startup\"  )\n",
    "df_col_top_100 = df_col_top_100[\"Organization Name\"].astype(str) \n",
    "\n",
    "\n",
    "startup_contained = []\n",
    "startup_not_contained = []\n",
    "\n",
    "df_colombia_company = df_all[ df_all['Country'] == 'Colombia' ]\n",
    "list_colombia_company_names = df_colombia_company['Organization Name'].tolist()\n",
    "\n",
    "for i in range(100):\n",
    "    top_company_name = df_startup.iloc[i].Startup\n",
    "    if top_company_name.upper() in (top_company_name.upper() for top_company_name in list_colombia_company_names):\n",
    "        startup_contained.append(top_company_name)\n",
    "    else:\n",
    "        startup_not_contained.append(top_company_name)\n",
    "\n",
    "print(\"[%d] estan contenidas, [%d] no estan contenidas\"%(len(startup_contained),len(startup_not_contained)))\n",
    "\n",
    "df_colombia_company[\"isInTop100\"] = 0\n",
    "\n",
    "pass\n",
    "\n",
    "for company_name in startup_contained:\n",
    "    df_colombia_company.loc[df_colombia_company['Organization Name'] == company_name, ['isInTop100']] = 1\n",
    "    \n",
    "df_col_top100= df_colombia_company\n",
    "df_contactos = pd.read_excel(\"EUContactos.xlsx\")\n",
    "    \n",
    "df_col_merge_1_bases = pd.merge(df_col_top100, df_contactos, left_on=\"Organization Name\", right_on= \"Name\"  )\n",
    "\n",
    "\n",
    "df_col_merge_2_bases = pd.merge(df_col, df_contactos, left_on=\"Organization Name\", right_on= \"Name\"  )\n",
    "\n",
    "\n",
    "df_col_merge_0_bases = pd.merge(df_col, df_startup, left_on=\"Organization Name\", right_on= \"Startup\"  )\n",
    "\n",
    "\n",
    "df_col_merge_3_bases = pd.merge(df_col_merge_2_bases, df_col_merge_0_bases, left_on=\"Organization Name\", right_on= \"Organization Name\"  )\n",
    "\n",
    "\n",
    "def Cotejar(data, values):\n",
    "    if data in values:\n",
    "        return 1\n",
    "    else:\n",
    "        return 0\n",
    "    \n",
    "df_col['cotejar_Or'] = df_col['Organization Name'].apply(Cotejar, values=df_contactos['Name'].tolist())\n",
    "\n",
    "df_col['cotejar_1'] = df_col_top100[\"isInTop100\"]\n",
    "df_col['cotejar_all3'] = df_col['cotejar_1'].apply(Cotejar, values=df_col['cotejar_Or'].tolist())\n",
    "\n",
    "import seaborn as sns\n",
    "\n",
    "df3=df_col[\"Headquarters Location\"].str.split(\",\", n = 2, expand = True) \n",
    "\n",
    "####  adicionando las nuevas columnas a df original\n",
    "df_col[\"City\"]= df3[0] \n",
    "df_col[\"Region\"]= df3[1] \n",
    "\n",
    "df_all.dropna()\n",
    "\n",
    "def Cotejar(data, values):\n",
    "    if data in values:\n",
    "        return 1\n",
    "    else:\n",
    "        return 0\n",
    "    \n",
    "df_col['cotejar_Or'] = df_col['Organization Name'].apply(Cotejar, values=df_contactos['Name'].tolist())\n",
    "df_col['cotejar_1'] = df_col_top100[\"isInTop100\"]\n",
    "df_col_merge1 = pd.merge(df_contactos, df_startup, left_on=\"Name\", right_on= \"Startup\"  )  \n",
    "df_col['cotejar_all3'] =  df_col['Organization Name'].apply(Cotejar, values=df_col_merge1['Name'].tolist()) \n",
    "len(df_col[df_col['cotejar_all3']==1])\n",
    "df_col_merge2=pd.merge(df_col_merge1, df_Col_Fintech, left_on=\"Name\", right_on= \"Companies\"  ) \n",
    "df_col['cotejar_todo'] =  df_col['Organization Name'].apply(Cotejar, values=df_Col_Fintech['Companies'].tolist()) \n",
    "print(len(df_col[df_col['cotejar_todo']==1]))"
   ]
  },
  {
   "cell_type": "code",
   "execution_count": 79,
   "metadata": {},
   "outputs": [
    {
     "data": {
      "image/png": "[encoded data removed]",
      "text/plain": [
       "<Figure size 576x288 with 1 Axes>"
      ]
     },
     "metadata": {
      "needs_background": "light"
     },
     "output_type": "display_data"
    },
    {
     "name": "stdout",
     "output_type": "stream",
     "text": [
      "0    959\n",
      "1     41\n",
      "Name: cotejar_todo, dtype: int64\n",
      "Numeros de 1 en la data = 41\n",
      "Numeros de 0 en la data = 959\n",
      "4.1000000000000005%\n",
      "95.89999999999999%"
     ]
    }
   ],
   "source": [
    "plt.figure(figsize = (8,4))\n",
    "df_col.groupby(\"cotejar_todo\").Region.count().plot.bar(ylim=0, color= [\"red\", \"blue\"])\n",
    "plt.title(\"VARIABLE DE RESPUESTA\")\n",
    "plt.show()\n",
    "print(pd.value_counts(df_col.cotejar_todo))\n",
    "print(\"Numeros de 1 en la data = %i\"%len(df_col[df_col.cotejar_todo==1]))\n",
    "print(\"Numeros de 0 en la data = %i\"%len(df_col[df_col.cotejar_todo==0]))\n",
    "print((len(df_col[df_col.cotejar_todo==1])/len(df_col.cotejar_todo))*100, end=\"%\")\n",
    "print(\"\")\n",
    "print((len(df_col[df_col.cotejar_todo==0])/len(df_col.cotejar_todo))*100, end=\"%\")"
   ]
  },
  {
   "cell_type": "markdown",
   "metadata": {},
   "source": [
    "### Cotejamos contra las companias Fintech Colombia "
   ]
  },
  {
   "cell_type": "code",
   "execution_count": 87,
   "metadata": {},
   "outputs": [
    {
     "name": "stdout",
     "output_type": "stream",
     "text": [
      "Most positive correlations : \n",
      "\n",
      " Company Type_For Profit        2.172158\n",
      "Company Type_For Profit        2.172158\n",
      "Operating Status_Active        2.814009\n",
      "IPO Status_Private             2.999231\n",
      "Number of Employees_11-50      3.805016\n",
      "Region_ Antioquia              4.426329\n",
      "City_Medellín                  5.746937\n",
      "City_Cundinamarca              6.868228\n",
      "City_Chía                      8.342789\n",
      "cotejar_todo                 100.000000\n",
      "Name: cotejar_todo, dtype: float64\n",
      "Most negative correlations : \n",
      "\n",
      " Number of Employees_1001-5000   -4.014776\n",
      "City_Madrid                     -3.174454\n",
      "Number of Employees_10001+      -2.999231\n",
      "Name: cotejar_todo, dtype: float64\n",
      "(875, 9)\n",
      "(875,)\n"
     ]
    },
    {
     "name": "stderr",
     "output_type": "stream",
     "text": [
      "C:\\Users\\Julian\\anaconda3\\lib\\site-packages\\pandas\\core\\frame.py:4167: SettingWithCopyWarning: \n",
      "A value is trying to be set on a copy of a slice from a DataFrame\n",
      "\n",
      "See the caveats in the documentation: https://pandas.pydata.org/pandas-docs/stable/user_guide/indexing.html#returning-a-view-versus-a-copy\n",
      "  return super().drop(\n"
     ]
    },
    {
     "data": {
      "image/png": "[encoded data removed]",
      "text/plain": [
       "<Figure size 432x288 with 2 Axes>"
      ]
     },
     "metadata": {
      "needs_background": "light"
     },
     "output_type": "display_data"
    }
   ],
   "source": [
    "df_var_inciden = df_col[[\"Organization Name\", \"City\",\"Region\",\"Total Funding Amount\",\"Estimated Revenue Range\", \"Operating Status\",\"Company Type\",\"Number of Articles\", \"Number of Founders\", \"Number of Employees\",\"Number of Funding Rounds\",\"Funding Status\", \"Number of Lead Investors\", \"Number of Investors\", \"IPO Status\", \"G2 Stack - Total Products Active\",\"cotejar_todo\"  ]]\n",
    "def dropi (data):\n",
    "    for i in data:\n",
    "        if data[i].isnull().sum()>= len(data[i])*0.3 :\n",
    "            data.drop([i], axis= 1, inplace=True)\n",
    "            \n",
    "dropi(df_var_inciden)\n",
    "\n",
    "df_var_inciden = df_var_inciden.dropna()\n",
    "cols_to_modify = [\"City\",\"Region\",\"Operating Status\",\"Company Type\",\"Company Type\",\"IPO Status\",\"Number of Employees\"]\n",
    "cols_to_keep = list(set(df_var_inciden.columns.values).difference(cols_to_modify))\n",
    "df_col_new= pd.get_dummies(df_var_inciden, columns= cols_to_modify)\n",
    "correlations = df_col_new.corr()[\"cotejar_todo\"].sort_values()\n",
    "print(\"Most positive correlations : \\n\\n\",correlations.tail(10)*100 )\n",
    "print(\"Most negative correlations : \\n\\n\",correlations.head(3)*100 )\n",
    "df_col_new= df_col_new[[\"City_Cundinamarca\", \"Number of Employees_101-250\",\"Number of Employees_51-100\",\"Number of Employees_251-500\",\"City_Medellín\",\"City_Cali\",\"IPO Status_Private\",\"Operating Status_Active\",\"Number of Employees_1-10\",\"cotejar_todo\"]]\n",
    "sns.heatmap(df_col_new.corr())\n",
    "X =  df_col_new[[\"City_Cundinamarca\", \"Number of Employees_101-250\",\"Number of Employees_51-100\",\"Number of Employees_251-500\",\"City_Medellín\",\"City_Cali\",\"IPO Status_Private\",\"Operating Status_Active\",\"Number of Employees_1-10\"]]\n",
    "# TARGET \n",
    "y= df_col_new[\"cotejar_todo\"]\n",
    "\n",
    "print(X.shape)\n",
    "print(y.shape)\n",
    "\n"
   ]
  },
  {
   "cell_type": "markdown",
   "metadata": {},
   "source": [
    "### Hagamos la regresión Logistica"
   ]
  },
  {
   "cell_type": "code",
   "execution_count": 88,
   "metadata": {},
   "outputs": [],
   "source": [
    "\n",
    "from sklearn import linear_model\n",
    "from sklearn import model_selection\n",
    "from sklearn.metrics import classification_report\n",
    "from sklearn.metrics import confusion_matrix\n",
    "from sklearn.metrics import accuracy_score"
   ]
  },
  {
   "cell_type": "code",
   "execution_count": 89,
   "metadata": {},
   "outputs": [
    {
     "name": "stdout",
     "output_type": "stream",
     "text": [
      "0.9565714285714285\n"
     ]
    }
   ],
   "source": [
    "model = linear_model.LogisticRegression()\n",
    "model.fit(X,y)\n",
    "predictions = model.predict(X)\n",
    "print(model.score(X,y))"
   ]
  },
  {
   "cell_type": "code",
   "execution_count": 90,
   "metadata": {},
   "outputs": [
    {
     "name": "stdout",
     "output_type": "stream",
     "text": [
      "Logistic Regression: 0.961429 (0.023947)\n"
     ]
    },
    {
     "name": "stderr",
     "output_type": "stream",
     "text": [
      "C:\\Users\\Julian\\anaconda3\\lib\\site-packages\\sklearn\\model_selection\\_split.py:293: FutureWarning: Setting a random_state has no effect since shuffle is False. This will raise an error in 0.24. You should leave random_state to its default (None), or set shuffle=True.\n",
      "  warnings.warn(\n"
     ]
    }
   ],
   "source": [
    "validation_size = 0.20\n",
    "seed = 7\n",
    "X_train, X_validation, Y_train, Y_validation = model_selection.train_test_split(X, y, test_size=validation_size, random_state=seed)\n",
    "\n",
    "name='Logistic Regression'\n",
    "kfold = model_selection.KFold(n_splits=10, random_state=seed)\n",
    "cv_results = model_selection.cross_val_score(model, X_train, Y_train, cv=kfold, scoring='accuracy')\n",
    "msg = \"%s: %f (%f)\" % (name, cv_results.mean(), cv_results.std())\n",
    "print(msg)"
   ]
  },
  {
   "cell_type": "code",
   "execution_count": 91,
   "metadata": {},
   "outputs": [
    {
     "name": "stdout",
     "output_type": "stream",
     "text": [
      "0.9371428571428572\n",
      "[[164   0]\n",
      " [ 11   0]]\n",
      "              precision    recall  f1-score   support\n",
      "\n",
      "           0       0.94      1.00      0.97       164\n",
      "           1       0.00      0.00      0.00        11\n",
      "\n",
      "    accuracy                           0.94       175\n",
      "   macro avg       0.47      0.50      0.48       175\n",
      "weighted avg       0.88      0.94      0.91       175\n",
      "\n"
     ]
    },
    {
     "name": "stderr",
     "output_type": "stream",
     "text": [
      "C:\\Users\\Julian\\anaconda3\\lib\\site-packages\\sklearn\\metrics\\_classification.py:1221: UndefinedMetricWarning: Precision and F-score are ill-defined and being set to 0.0 in labels with no predicted samples. Use `zero_division` parameter to control this behavior.\n",
      "  _warn_prf(average, modifier, msg_start, len(result))\n"
     ]
    }
   ],
   "source": [
    "predictions = model.predict(X_validation)\n",
    "print(accuracy_score(Y_validation, predictions))\n",
    "print(confusion_matrix(Y_validation, predictions)) # las que estan por fuera de la diagonal son las que hizo mal \n",
    "print(classification_report(Y_validation, predictions)) # soporte las validaciones, recall el % de acierto "
   ]
  },
  {
   "cell_type": "markdown",
   "metadata": {},
   "source": [
    "### Como podemos observar en la matriz de confusion los 1 es decir que pertenecen a Fintech no predijo ninguno por esto el recall es 0, debemos balancear la data "
   ]
  },
  {
   "cell_type": "code",
   "execution_count": 92,
   "metadata": {},
   "outputs": [
    {
     "name": "stdout",
     "output_type": "stream",
     "text": [
      "0.7474285714285714\n"
     ]
    }
   ],
   "source": [
    "model = linear_model.LogisticRegression(class_weight=\"balanced\")\n",
    "model.fit(X,y)\n",
    "predictions = model.predict(X)\n",
    "print(model.score(X,y))"
   ]
  },
  {
   "cell_type": "code",
   "execution_count": 93,
   "metadata": {},
   "outputs": [
    {
     "name": "stdout",
     "output_type": "stream",
     "text": [
      "Logistic Regression: 0.708571 (0.133585)\n"
     ]
    },
    {
     "name": "stderr",
     "output_type": "stream",
     "text": [
      "C:\\Users\\Julian\\anaconda3\\lib\\site-packages\\sklearn\\model_selection\\_split.py:293: FutureWarning: Setting a random_state has no effect since shuffle is False. This will raise an error in 0.24. You should leave random_state to its default (None), or set shuffle=True.\n",
      "  warnings.warn(\n"
     ]
    }
   ],
   "source": [
    "validation_size = 0.20\n",
    "seed = 7\n",
    "X_train, X_validation, Y_train, Y_validation = model_selection.train_test_split(X, y, test_size=validation_size, random_state=seed)\n",
    "\n",
    "name='Logistic Regression'\n",
    "kfold = model_selection.KFold(n_splits=10, random_state=seed)\n",
    "cv_results = model_selection.cross_val_score(model, X_train, Y_train, cv=kfold, scoring='accuracy')\n",
    "msg = \"%s: %f (%f)\" % (name, cv_results.mean(), cv_results.std())\n",
    "print(msg)"
   ]
  },
  {
   "cell_type": "code",
   "execution_count": 94,
   "metadata": {},
   "outputs": [
    {
     "name": "stdout",
     "output_type": "stream",
     "text": [
      "0.7485714285714286\n",
      "[[127  37]\n",
      " [  7   4]]\n",
      "              precision    recall  f1-score   support\n",
      "\n",
      "           0       0.95      0.77      0.85       164\n",
      "           1       0.10      0.36      0.15        11\n",
      "\n",
      "    accuracy                           0.75       175\n",
      "   macro avg       0.52      0.57      0.50       175\n",
      "weighted avg       0.89      0.75      0.81       175\n",
      "\n"
     ]
    }
   ],
   "source": [
    "predictions = model.predict(X_validation)\n",
    "print(accuracy_score(Y_validation, predictions))\n",
    "print(confusion_matrix(Y_validation, predictions)) # las que estan por fuera de la diagonal son las que hizo mal \n",
    "print(classification_report(Y_validation, predictions)) # soporte las validaciones, recall el % de acierto"
   ]
  },
  {
   "cell_type": "markdown",
   "metadata": {},
   "source": [
    "## Auque al balancear la data el score del modelo bajó pudimos observar que la presición subió y el recall de data que es fintech ya no es 0% , est nos indica que este modelo  es mejor con accurancy 0.75"
   ]
  },
  {
   "cell_type": "code",
   "execution_count": null,
   "metadata": {},
   "outputs": [],
   "source": []
  }
 ],
 "metadata": {
  "kernelspec": {
   "display_name": "Python 3",
   "language": "python",
   "name": "python3"
  },
  "language_info": {
   "codemirror_mode": {
    "name": "ipython",
    "version": 3
   },
   "file_extension": ".py",
   "mimetype": "text/x-python",
   "name": "python",
   "nbconvert_exporter": "python",
   "pygments_lexer": "ipython3",
   "version": "3.8.3"
  }
 },
 "nbformat": 4,
 "nbformat_minor": 4
}
