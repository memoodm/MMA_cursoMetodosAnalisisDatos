{
 "cells": [
  {
   "cell_type": "markdown",
   "metadata": {},
   "source": [
    "# Tarea Regresion Multivariada"
   ]
  },
  {
   "cell_type": "code",
   "execution_count": null,
   "metadata": {},
   "outputs": [],
   "source": [
    "import numpy as np\n",
    "import pandas as pd\n",
    "import matplotlib.pyplot as plt\n",
    "import statsmodels.api as sm\n",
    "from sklearn.linear_model import LinearRegression"
   ]
  },
  {
   "cell_type": "markdown",
   "metadata": {},
   "source": [
    "Tomaresmos a X como una matris de dos variables "
   ]
  },
  {
   "cell_type": "code",
   "execution_count": null,
   "metadata": {},
   "outputs": [],
   "source": [
    "data = np.array([[8500, 2, 2800], [4700, 5, 200], [5800, 3, 400], [7400, 2, 500], [6200, 5, 3200], [7300, 3, 1800], [5600, 4, 900]])\n",
    "df = pd.DataFrame(columns=['Quantity_Sold', 'Price', 'Advertising'], data=data)\n",
    "df"
   ]
  },
  {
   "cell_type": "code",
   "execution_count": 42,
   "metadata": {},
   "outputs": [],
   "source": [
    "Y = df['Quantity_Sold'].values\n",
    "X = df[['Price', 'Advertising']].values"
   ]
  },
  {
   "cell_type": "code",
   "execution_count": 135,
   "metadata": {},
   "outputs": [
    {
     "name": "stdout",
     "output_type": "stream",
     "text": [
      "y = -835.722x1 + 0.592x2 + 8536.214\n"
     ]
    }
   ],
   "source": [
    "reg = LinearRegression()\n",
    "reg.fit(X, Y)\n",
    "coef = reg.coef_\n",
    "inter= reg.intercept_\n",
    "# print(coef, inter)\n",
    "func = 'y = {}x1 + {}x2 + {}'.format(np.round(coef[0], 3), np.round(coef[1], 3), np.round(inter, 3))\n",
    "print( func)"
   ]
  },
  {
   "cell_type": "markdown",
   "metadata": {},
   "source": [
    "La variable objetivo (Quantity sold) decrece con base con la variable x1 (Price) y crece con la variable x2 (Advertising) "
   ]
  },
  {
   "cell_type": "markdown",
   "metadata": {},
   "source": [
    "# Estadisticas de la regresion"
   ]
  },
  {
   "cell_type": "code",
   "execution_count": 76,
   "metadata": {},
   "outputs": [
    {
     "name": "stdout",
     "output_type": "stream",
     "text": [
      "Coeficiente de correlacion: 0.9249362650282591\n",
      "Coeficiente de determinacion: 0.9617360682787451\n",
      "R2 ajustado: 0.8874043975423886\n",
      "Error tipico: 168.11681667035984\n",
      "Observaciones: 7\n"
     ]
    }
   ],
   "source": [
    "ypred = reg.predict(X)\n",
    "\n",
    "r = reg.score(X, Y)\n",
    "r2  = r**2\n",
    "n = X.shape[0]\n",
    "k = X.shape[1]\n",
    "\n",
    "r2a = 1-((n-1)/(n-k-1))*(1-r2)\n",
    "err_tip = np.std(ypred)/n\n",
    "\n",
    "print('Coeficiente de correlacion:',   r2)\n",
    "print('Coeficiente de determinacion:', r)\n",
    "print('R2 ajustado:', r2a)\n",
    "print('Error tipico:', err_tip)\n",
    "print('Observaciones:', n)"
   ]
  },
  {
   "cell_type": "code",
   "execution_count": 137,
   "metadata": {},
   "outputs": [
    {
     "data": {
      "image/png": "[encoded data removed]",
      "text/plain": [
       "<Figure size 432x288 with 1 Axes>"
      ]
     },
     "metadata": {
      "needs_background": "light"
     },
     "output_type": "display_data"
    }
   ],
   "source": [
    "ypred = reg.predict(X)\n",
    "plt.scatter(Y, ypred)\n",
    "plt.plot([4500, 8600], [4500, 8600], 'r--')\n",
    "\n",
    "plt.xlabel('True values')\n",
    "plt.ylabel('Predictions')\n",
    "plt.grid()\n",
    "plt.title(func);"
   ]
  },
  {
   "cell_type": "code",
   "execution_count": 14,
   "metadata": {},
   "outputs": [
    {
     "data": {
      "text/plain": [
       "array([   1.50202156, 1257.54716981])"
      ]
     },
     "execution_count": 14,
     "metadata": {},
     "output_type": "execute_result"
    }
   ],
   "source": [
    "reg.coef_"
   ]
  },
  {
   "cell_type": "code",
   "execution_count": 15,
   "metadata": {},
   "outputs": [
    {
     "data": {
      "text/plain": [
       "-12674.730458221024"
      ]
     },
     "execution_count": 15,
     "metadata": {},
     "output_type": "execute_result"
    }
   ],
   "source": [
    "reg.intercept_"
   ]
  },
  {
   "cell_type": "code",
   "execution_count": 85,
   "metadata": {},
   "outputs": [],
   "source": [
    "Xc = sm.add_constant(X)\n",
    "model = sm.OLS(Y, Xc).fit(intercept=False)"
   ]
  },
  {
   "cell_type": "code",
   "execution_count": 87,
   "metadata": {},
   "outputs": [
    {
     "name": "stdout",
     "output_type": "stream",
     "text": [
      "                            OLS Regression Results                            \n",
      "==============================================================================\n",
      "Dep. Variable:                      y   R-squared:                       0.962\n",
      "Model:                            OLS   Adj. R-squared:                  0.943\n",
      "Method:                 Least Squares   F-statistic:                     50.27\n",
      "Date:                Thu, 03 Dec 2020   Prob (F-statistic):            0.00146\n",
      "Time:                        21:51:47   Log-Likelihood:                -48.142\n",
      "No. Observations:                   7   AIC:                             102.3\n",
      "Df Residuals:                       4   BIC:                             102.1\n",
      "Df Model:                           2                                         \n",
      "Covariance Type:            nonrobust                                         \n",
      "==============================================================================\n",
      "                 coef    std err          t      P>|t|      [0.025      0.975]\n",
      "------------------------------------------------------------------------------\n",
      "const       8536.2139    386.912     22.062      0.000    7461.975    9610.453\n",
      "x1          -835.7224     99.653     -8.386      0.001   -1112.404    -559.041\n",
      "x2             0.5922      0.104      5.676      0.005       0.303       0.882\n",
      "==============================================================================\n",
      "Omnibus:                          nan   Durbin-Watson:                   3.358\n",
      "Prob(Omnibus):                    nan   Jarque-Bera (JB):                0.744\n",
      "Skew:                          -0.771   Prob(JB):                        0.689\n",
      "Kurtosis:                       2.585   Cond. No.                     6.07e+03\n",
      "==============================================================================\n",
      "\n",
      "Warnings:\n",
      "[1] Standard Errors assume that the covariance matrix of the errors is correctly specified.\n",
      "[2] The condition number is large, 6.07e+03. This might indicate that there are\n",
      "strong multicollinearity or other numerical problems.\n"
     ]
    },
    {
     "name": "stderr",
     "output_type": "stream",
     "text": [
      "C:\\Users\\nataly.roa\\Anaconda3\\lib\\site-packages\\statsmodels\\stats\\stattools.py:70: ValueWarning: omni_normtest is not valid with less than 8 observations; 7 samples were given.\n",
      "  warn(\"omni_normtest is not valid with less than 8 observations; %i \"\n"
     ]
    }
   ],
   "source": [
    "predictions = model.predict(Xc)\n",
    "print(model.summary())"
   ]
  },
  {
   "cell_type": "markdown",
   "metadata": {},
   "source": [
    "Al inicio intente generar la tabla estadistica de mi modelo, por medio de ajustes de los datos y usando a statsmodel, usando el intercept, encontramos los ajustes necesarios para que el modelo llegue a la mejor predicción, que encontramos en este resumen del modelo:\n",
    "\n",
    "\n",
    "*Donde R² tienen una buena estimacion ya que tenemos R² es de 0.92.\n",
    "*Tenemos que el F nos compara el ajuste del modelo del intercepto del modelo, donde denotamos que rechazamos la hipotessis nula ya que el grado de significancia no es muy menor.\n",
    "*Tambien notamos que nos da un resumen de cuantas observaciones y el residuo de cada modelo, el residual de los modelos nos ayuda a entender que tanto necesita la data para un buen ajuste dependiendo del dato.\n",
    "\n",
    "\n",
    "La Segunda tabla\n",
    "\n",
    "*Encontramos como esta conformado el modelo de regrecion y cuales son sus intervalos de confianza en donde se ajusta el modelo.\n",
    "\n",
    "Para concluir que el modelo tiene una buena predicción  y ajuste.\n"
   ]
  },
  {
   "cell_type": "code",
   "execution_count": 104,
   "metadata": {},
   "outputs": [],
   "source": [
    "results =model.get_prediction()"
   ]
  },
  {
   "cell_type": "code",
   "execution_count": 134,
   "metadata": {},
   "outputs": [],
   "source": [
    "err_pred = results.conf_int()"
   ]
  },
  {
   "cell_type": "code",
   "execution_count": 140,
   "metadata": {},
   "outputs": [
    {
     "data": {
      "text/plain": [
       "Text(0.5, 1.0, 'Model Prediction')"
      ]
     },
     "execution_count": 140,
     "metadata": {},
     "output_type": "execute_result"
    },
    {
     "data": {
      "image/png": "[encoded data removed]",
      "text/plain": [
       "<Figure size 432x288 with 1 Axes>"
      ]
     },
     "metadata": {
      "needs_background": "light"
     },
     "output_type": "display_data"
    }
   ],
   "source": [
    "plt.plot(Y, 'ko', label='True')\n",
    "plt.plot(ypred, label='Prediction')\n",
    "plt.fill_between(x= np.arange(len(Y)), y1=err_pred[:,0], y2=err_pred[:,1], alpha=0.3, label='CI: 95%' )\n",
    "plt.legend()\n",
    "plt.grid()\n",
    "\n",
    "plt.ylabel('Quantity Sold')\n",
    "plt.xlabel('Observations')\n",
    "plt.title('Model Prediction')"
   ]
  },
  {
   "cell_type": "markdown",
   "metadata": {},
   "source": [
    "De esta grafica podemos ver que el 3 datoes el mas dificil de ajustar y el resto de los punto caen dentro del intervalo de confianza "
   ]
  },
  {
   "cell_type": "code",
   "execution_count": null,
   "metadata": {},
   "outputs": [],
   "source": []
  }
 ],
 "metadata": {
  "kernelspec": {
   "display_name": "Python 3",
   "language": "python",
   "name": "python3"
  },
  "language_info": {
   "codemirror_mode": {
    "name": "ipython",
    "version": 3
   },
   "file_extension": ".py",
   "mimetype": "text/x-python",
   "name": "python",
   "nbconvert_exporter": "python",
   "pygments_lexer": "ipython3",
   "version": "3.8.3"
  }
 },
 "nbformat": 4,
 "nbformat_minor": 4
}
