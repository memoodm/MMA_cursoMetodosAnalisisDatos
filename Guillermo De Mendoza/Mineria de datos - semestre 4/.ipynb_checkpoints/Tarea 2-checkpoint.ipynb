{
 "cells": [
  {
   "cell_type": "markdown",
   "metadata": {},
   "source": [
    "<h1 style=\"color: red; text-align: center;\"> Tarea 2 </h1>\n",
    "<h3 style=\"color: red; text-align: center;\"> Por: Guillermo De Mendoza </h3>\n",
    "<h3 style=\"color: red; text-align: center;\"> Materia: Mineria de datos </h3>"
   ]
  },
  {
   "cell_type": "markdown",
   "metadata": {},
   "source": [
    "### Importar librerias"
   ]
  },
  {
   "cell_type": "code",
   "execution_count": 1,
   "metadata": {},
   "outputs": [],
   "source": [
    "import pandas as pd\n",
    "import numpy as np\n",
    "import matplotlib.pyplot as plt\n",
    "\n",
    "import seaborn as sns"
   ]
  },
  {
   "cell_type": "markdown",
   "metadata": {},
   "source": [
    "### Obtener y limpiar el set de datos"
   ]
  },
  {
   "cell_type": "code",
   "execution_count": 2,
   "metadata": {},
   "outputs": [
    {
     "ename": "NameError",
     "evalue": "name 'dataframe_countries' is not defined",
     "output_type": "error",
     "traceback": [
      "\u001b[1;31m---------------------------------------------------------------------------\u001b[0m",
      "\u001b[1;31mNameError\u001b[0m                                 Traceback (most recent call last)",
      "\u001b[1;32m<ipython-input-2-1303cc140329>\u001b[0m in \u001b[0;36m<module>\u001b[1;34m\u001b[0m\n\u001b[0;32m     33\u001b[0m     \u001b[0mdata_frame\u001b[0m \u001b[1;33m=\u001b[0m \u001b[0mcountries_data_frames_list\u001b[0m\u001b[1;33m[\u001b[0m\u001b[0mdf_index\u001b[0m\u001b[1;33m]\u001b[0m\u001b[1;33m\u001b[0m\u001b[1;33m\u001b[0m\u001b[0m\n\u001b[0;32m     34\u001b[0m     \u001b[1;32mfor\u001b[0m \u001b[0mi\u001b[0m \u001b[1;32min\u001b[0m \u001b[0mrange\u001b[0m\u001b[1;33m(\u001b[0m\u001b[0mlen\u001b[0m\u001b[1;33m(\u001b[0m\u001b[0mdata_frame\u001b[0m\u001b[1;33m)\u001b[0m\u001b[1;33m)\u001b[0m\u001b[1;33m:\u001b[0m\u001b[1;33m\u001b[0m\u001b[1;33m\u001b[0m\u001b[0m\n\u001b[1;32m---> 35\u001b[1;33m         \u001b[0mheadQuartersLocationArray\u001b[0m \u001b[1;33m=\u001b[0m \u001b[0mdataframe_countries\u001b[0m\u001b[1;33m.\u001b[0m\u001b[0miloc\u001b[0m\u001b[1;33m[\u001b[0m\u001b[0mi\u001b[0m\u001b[1;33m]\u001b[0m\u001b[1;33m[\u001b[0m\u001b[1;34m\"Headquarters Location\"\u001b[0m\u001b[1;33m]\u001b[0m\u001b[1;33m.\u001b[0m\u001b[0msplit\u001b[0m\u001b[1;33m(\u001b[0m\u001b[1;34m\",\"\u001b[0m\u001b[1;33m)\u001b[0m\u001b[1;33m\u001b[0m\u001b[1;33m\u001b[0m\u001b[0m\n\u001b[0m\u001b[0;32m     36\u001b[0m         \u001b[0morganizationName\u001b[0m \u001b[1;33m=\u001b[0m \u001b[0mdataframe_countries\u001b[0m\u001b[1;33m.\u001b[0m\u001b[0miloc\u001b[0m\u001b[1;33m[\u001b[0m\u001b[0mi\u001b[0m\u001b[1;33m]\u001b[0m\u001b[1;33m[\u001b[0m\u001b[1;34m\"Organization Name\"\u001b[0m\u001b[1;33m]\u001b[0m\u001b[1;33m\u001b[0m\u001b[1;33m\u001b[0m\u001b[0m\n\u001b[0;32m     37\u001b[0m         \u001b[0mcity\u001b[0m \u001b[1;33m=\u001b[0m \u001b[0mheadQuartersLocationArray\u001b[0m\u001b[1;33m[\u001b[0m\u001b[1;36m0\u001b[0m\u001b[1;33m]\u001b[0m\u001b[1;33m.\u001b[0m\u001b[0mstrip\u001b[0m\u001b[1;33m(\u001b[0m\u001b[1;33m)\u001b[0m\u001b[1;33m\u001b[0m\u001b[1;33m\u001b[0m\u001b[0m\n",
      "\u001b[1;31mNameError\u001b[0m: name 'dataframe_countries' is not defined"
     ]
    }
   ],
   "source": [
    "FOLDER ='C:\\\\data'\n",
    "FILES = [\n",
    "    [\"ColombiaCB-5March21.csv\",\"Colombia\"],\n",
    "    [\"ChileCB-5March21.csv\",\"Chile\"],\n",
    "    [\"BrazilCB-5March21.csv\",\"Brazil\"],\n",
    "    [\"ArgentinaCB-5March21.csv\",\"Argentina\"],\n",
    "    [\"MexicoCB-5March21.csv\",\"Mexico\"],\n",
    "    [\"UruguayCB-5March21.csv\",\"Uruguay\"],\n",
    "    [\"SpainCB-5March21.csv\",\"Spain\"],\n",
    "    [\"SwitzerlandCB-5March21.csv\",\"Switzerland\"],\n",
    "    [\"IsraelCB-5March21.csv\",\"Israel\"],\n",
    "    [\"USACB-5March21.csv\",\"USA\"],\n",
    "    [\"GermanyCB-5March21.csv\",\"Germany\"]\n",
    "]\n",
    "\n",
    "countries_data_frames_list = []\n",
    "data_countries_names = []\n",
    "for file in FILES:\n",
    "    #read folder and create dataframe\n",
    "    file_path = FOLDER+\"\\\\\"+file[0]\n",
    "    df = pd.read_csv(file_path)\n",
    "    #add column country,city,state\n",
    "    df[\"Country\"] = file[1]\n",
    "    df[\"City\"]=\"\"\n",
    "    df[\"State\"]=\"\"\n",
    "    #add country dataframe to countries_data_frames list\n",
    "    countries_data_frames_list.append(df)\n",
    "    #add country name to data_countries_names list\n",
    "    data_countries_names.append(file[1])\n",
    "    \n",
    "# agregar valores de ciudades y estados\n",
    "for df_index in range(len(countries_data_frames_list)):\n",
    "    data_frame = countries_data_frames_list[df_index]\n",
    "    for i in range(len(data_frame)):\n",
    "        headQuartersLocationArray = data_frame.iloc[i][\"Headquarters Location\"].split(\",\")\n",
    "        organizationName = data_frame.iloc[i][\"Organization Name\"]\n",
    "        city = headQuartersLocationArray[0].strip()\n",
    "        state = headQuartersLocationArray[1].strip()\n",
    "        data_frame.at[i, 'City'] = city\n",
    "        data_frame.at[i, 'State'] = state\n",
    "    \n",
    "dataframe_countries = pd.concat(countries_data_frames_list)"
   ]
  },
  {
   "cell_type": "markdown",
   "metadata": {},
   "source": [
    "### Limpiar valores NaN por columna"
   ]
  },
  {
   "cell_type": "code",
   "execution_count": null,
   "metadata": {},
   "outputs": [],
   "source": [
    "#df['DataFrame Column'] = df['DataFrame Column'].fillna(0)\n",
    "dataframe_countries = dataframe_countries[dataframe_countries[\"Last Funding Amount\"].notna()]"
   ]
  },
  {
   "cell_type": "markdown",
   "metadata": {},
   "source": [
    "### Visualizar campos"
   ]
  },
  {
   "cell_type": "code",
   "execution_count": null,
   "metadata": {},
   "outputs": [],
   "source": [
    "print(\"Filas: %d\"%(dataframe_countries.shape[1]))\n",
    "print(\"Columnas: %d\"%(dataframe_countries.shape[0]))"
   ]
  },
  {
   "cell_type": "code",
   "execution_count": null,
   "metadata": {},
   "outputs": [],
   "source": [
    "dataframe_countries.info()"
   ]
  },
  {
   "cell_type": "code",
   "execution_count": null,
   "metadata": {},
   "outputs": [],
   "source": [
    "dataframe_countries.head(5)"
   ]
  },
  {
   "cell_type": "markdown",
   "metadata": {},
   "source": [
    "### Calculo de correlaciones"
   ]
  },
  {
   "cell_type": "code",
   "execution_count": null,
   "metadata": {},
   "outputs": [],
   "source": [
    "dataframe_countries.corr(method='pearson')"
   ]
  },
  {
   "cell_type": "code",
   "execution_count": null,
   "metadata": {},
   "outputs": [],
   "source": [
    "sns.heatmap(dataframe_countries.corr(method='spearman'));"
   ]
  },
  {
   "cell_type": "markdown",
   "metadata": {},
   "source": [
    "### Graficas"
   ]
  },
  {
   "cell_type": "code",
   "execution_count": null,
   "metadata": {},
   "outputs": [],
   "source": [
    "for i in dataframe_countries:\n",
    "    i[\"Last Funding Amount\"].plot(kind=\"hist\"  )\n",
    "    plt.grid()\n",
    "    plt.show()"
   ]
  },
  {
   "cell_type": "code",
   "execution_count": null,
   "metadata": {},
   "outputs": [],
   "source": []
  }
 ],
 "metadata": {
  "kernelspec": {
   "display_name": "Python 3",
   "language": "python",
   "name": "python3"
  },
  "language_info": {
   "codemirror_mode": {
    "name": "ipython",
    "version": 3
   },
   "file_extension": ".py",
   "mimetype": "text/x-python",
   "name": "python",
   "nbconvert_exporter": "python",
   "pygments_lexer": "ipython3",
   "version": "3.8.3"
  }
 },
 "nbformat": 4,
 "nbformat_minor": 4
}
