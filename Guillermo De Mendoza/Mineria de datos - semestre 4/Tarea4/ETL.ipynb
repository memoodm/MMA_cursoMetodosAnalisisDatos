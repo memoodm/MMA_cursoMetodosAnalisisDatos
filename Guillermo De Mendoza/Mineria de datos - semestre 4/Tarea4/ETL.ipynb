{
 "cells": [
  {
   "cell_type": "code",
   "execution_count": 1,
   "metadata": {},
   "outputs": [],
   "source": [
    "import pandas as pd"
   ]
  },
  {
   "cell_type": "code",
   "execution_count": 2,
   "metadata": {},
   "outputs": [],
   "source": [
    "df = pd.read_csv('.\\\\ColombiaFlagTop100.csv')"
   ]
  },
  {
   "cell_type": "code",
   "execution_count": 4,
   "metadata": {},
   "outputs": [
    {
     "data": {
      "text/plain": [
       "0            Medellín, Antioquia, Colombia\n",
       "1      Bogotá, Distrito Especial, Colombia\n",
       "2      Bogotá, Distrito Especial, Colombia\n",
       "3      Bogotá, Distrito Especial, Colombia\n",
       "4      Bogotá, Distrito Especial, Colombia\n",
       "                      ...                 \n",
       "224    Bogotá, Distrito Especial, Colombia\n",
       "225    Bogotá, Distrito Especial, Colombia\n",
       "226    Bogotá, Distrito Especial, Colombia\n",
       "227          Medellín, Antioquia, Colombia\n",
       "228    Bogotá, Distrito Especial, Colombia\n",
       "Name: Headquarters Location, Length: 229, dtype: object"
      ]
     },
     "execution_count": 4,
     "metadata": {},
     "output_type": "execute_result"
    }
   ],
   "source": [
    "df[\"Headquarters Location\"]\n"
   ]
  },
  {
   "cell_type": "code",
   "execution_count": null,
   "metadata": {},
   "outputs": [],
   "source": []
  }
 ],
 "metadata": {
  "kernelspec": {
   "display_name": "Python 3",
   "language": "python",
   "name": "python3"
  },
  "language_info": {
   "codemirror_mode": {
    "name": "ipython",
    "version": 3
   },
   "file_extension": ".py",
   "mimetype": "text/x-python",
   "name": "python",
   "nbconvert_exporter": "python",
   "pygments_lexer": "ipython3",
   "version": "3.8.3"
  }
 },
 "nbformat": 4,
 "nbformat_minor": 4
}
