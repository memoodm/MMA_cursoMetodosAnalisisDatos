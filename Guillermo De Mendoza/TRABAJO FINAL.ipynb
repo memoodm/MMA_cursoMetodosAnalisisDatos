{
 "cells": [
  {
   "cell_type": "markdown",
   "metadata": {},
   "source": [
    "<h1 style=\"color: red; text-align: center;\"> TRABAJO FINAL </h1>\n",
    "<h2 style=\"color: red; text-align: center;\"> Por: Guillermo De Mendoza </h2>\n",
    "<h5 style=\"color: red; text-align: center;\"> Materia: metodos de analisis de datos </h5>\n",
    "<h5 style=\"color: red; text-align: center;\"> Maestria en Matematicas Aplicadas - Universidad Sergio Arboleda </h5>\n",
    "\n",
    "<br>\n",
    "\n",
    "<b>Indice de contenidos:</b>\n",
    "\n",
    "1. Cargar datos\n",
    "2. Visualizar datos\n",
    "3. Analizar datos\n",
    "4. Preprosesamiento de datos\n",
    "5. Segmentacion Kmeans\n",
    "6. K Vecinos\n",
    "7. Predicciones"
   ]
  },
  {
   "cell_type": "markdown",
   "metadata": {},
   "source": [
    "# Importar librerias"
   ]
  },
  {
   "cell_type": "code",
   "execution_count": 1,
   "metadata": {},
   "outputs": [],
   "source": [
    "# datos\n",
    "import pandas as pd \n",
    "\n",
    "# operaciones\n",
    "import numpy as np\n",
    "from scipy.spatial.distance import cdist\n",
    "\n",
    "# graficas\n",
    "import matplotlib.pyplot as plt\n",
    "import seaborn as sns\n",
    "\n",
    "# sistema\n",
    "import os\n",
    "\n",
    "# machine learning\n",
    "from sklearn.utils import resample\n",
    "from sklearn import preprocessing\n",
    "from sklearn.metrics import (confusion_matrix,accuracy_score)\n",
    "from sklearn.preprocessing import LabelEncoder\n",
    "from sklearn.linear_model import LogisticRegression\n",
    "from sklearn.model_selection import train_test_split\n",
    "from sklearn.neighbors import KNeighborsClassifier\n",
    "from sklearn.cluster import KMeans\n"
   ]
  },
  {
   "cell_type": "markdown",
   "metadata": {},
   "source": [
    "# 1. Cargar datos"
   ]
  },
  {
   "cell_type": "code",
   "execution_count": 2,
   "metadata": {},
   "outputs": [],
   "source": [
    "data = pd.read_csv(r'C:\\Users\\Gmendoza\\Desktop\\ANALISIS DE DATOS\\Winequality.csv',sep=';')"
   ]
  },
  {
   "cell_type": "markdown",
   "metadata": {},
   "source": [
    "# 2. Visualizar datos"
   ]
  },
  {
   "cell_type": "code",
   "execution_count": 3,
   "metadata": {},
   "outputs": [
    {
     "data": {
      "text/html": [
       "<div>\n",
       "<style scoped>\n",
       "    .dataframe tbody tr th:only-of-type {\n",
       "        vertical-align: middle;\n",
       "    }\n",
       "\n",
       "    .dataframe tbody tr th {\n",
       "        vertical-align: top;\n",
       "    }\n",
       "\n",
       "    .dataframe thead th {\n",
       "        text-align: right;\n",
       "    }\n",
       "</style>\n",
       "<table border=\"1\" class=\"dataframe\">\n",
       "  <thead>\n",
       "    <tr style=\"text-align: right;\">\n",
       "      <th></th>\n",
       "      <th>fixed acidity</th>\n",
       "      <th>volatile acidity</th>\n",
       "      <th>citric acid</th>\n",
       "      <th>residual sugar</th>\n",
       "      <th>chlorides</th>\n",
       "      <th>free sulfur dioxide</th>\n",
       "      <th>total sulfur dioxide</th>\n",
       "      <th>density</th>\n",
       "      <th>pH</th>\n",
       "      <th>sulphates</th>\n",
       "      <th>alcohol</th>\n",
       "      <th>quality</th>\n",
       "    </tr>\n",
       "  </thead>\n",
       "  <tbody>\n",
       "    <tr>\n",
       "      <th>0</th>\n",
       "      <td>7.4</td>\n",
       "      <td>0.700</td>\n",
       "      <td>0.00</td>\n",
       "      <td>1.9</td>\n",
       "      <td>0.076</td>\n",
       "      <td>11.0</td>\n",
       "      <td>34.0</td>\n",
       "      <td>0.9978</td>\n",
       "      <td>3.51</td>\n",
       "      <td>0.56</td>\n",
       "      <td>9.4</td>\n",
       "      <td>5</td>\n",
       "    </tr>\n",
       "    <tr>\n",
       "      <th>1</th>\n",
       "      <td>7.8</td>\n",
       "      <td>0.880</td>\n",
       "      <td>0.00</td>\n",
       "      <td>2.6</td>\n",
       "      <td>0.098</td>\n",
       "      <td>25.0</td>\n",
       "      <td>67.0</td>\n",
       "      <td>0.9968</td>\n",
       "      <td>3.20</td>\n",
       "      <td>0.68</td>\n",
       "      <td>9.8</td>\n",
       "      <td>5</td>\n",
       "    </tr>\n",
       "    <tr>\n",
       "      <th>2</th>\n",
       "      <td>7.8</td>\n",
       "      <td>0.760</td>\n",
       "      <td>0.04</td>\n",
       "      <td>2.3</td>\n",
       "      <td>0.092</td>\n",
       "      <td>15.0</td>\n",
       "      <td>54.0</td>\n",
       "      <td>0.9970</td>\n",
       "      <td>3.26</td>\n",
       "      <td>0.65</td>\n",
       "      <td>9.8</td>\n",
       "      <td>5</td>\n",
       "    </tr>\n",
       "    <tr>\n",
       "      <th>3</th>\n",
       "      <td>11.2</td>\n",
       "      <td>0.280</td>\n",
       "      <td>0.56</td>\n",
       "      <td>1.9</td>\n",
       "      <td>0.075</td>\n",
       "      <td>17.0</td>\n",
       "      <td>60.0</td>\n",
       "      <td>0.9980</td>\n",
       "      <td>3.16</td>\n",
       "      <td>0.58</td>\n",
       "      <td>9.8</td>\n",
       "      <td>6</td>\n",
       "    </tr>\n",
       "    <tr>\n",
       "      <th>4</th>\n",
       "      <td>7.4</td>\n",
       "      <td>0.700</td>\n",
       "      <td>0.00</td>\n",
       "      <td>1.9</td>\n",
       "      <td>0.076</td>\n",
       "      <td>11.0</td>\n",
       "      <td>34.0</td>\n",
       "      <td>0.9978</td>\n",
       "      <td>3.51</td>\n",
       "      <td>0.56</td>\n",
       "      <td>9.4</td>\n",
       "      <td>5</td>\n",
       "    </tr>\n",
       "    <tr>\n",
       "      <th>5</th>\n",
       "      <td>7.4</td>\n",
       "      <td>0.660</td>\n",
       "      <td>0.00</td>\n",
       "      <td>1.8</td>\n",
       "      <td>0.075</td>\n",
       "      <td>13.0</td>\n",
       "      <td>40.0</td>\n",
       "      <td>0.9978</td>\n",
       "      <td>3.51</td>\n",
       "      <td>0.56</td>\n",
       "      <td>9.4</td>\n",
       "      <td>5</td>\n",
       "    </tr>\n",
       "    <tr>\n",
       "      <th>6</th>\n",
       "      <td>7.9</td>\n",
       "      <td>0.600</td>\n",
       "      <td>0.06</td>\n",
       "      <td>1.6</td>\n",
       "      <td>0.069</td>\n",
       "      <td>15.0</td>\n",
       "      <td>59.0</td>\n",
       "      <td>0.9964</td>\n",
       "      <td>3.30</td>\n",
       "      <td>0.46</td>\n",
       "      <td>9.4</td>\n",
       "      <td>5</td>\n",
       "    </tr>\n",
       "    <tr>\n",
       "      <th>7</th>\n",
       "      <td>7.3</td>\n",
       "      <td>0.650</td>\n",
       "      <td>0.00</td>\n",
       "      <td>1.2</td>\n",
       "      <td>0.065</td>\n",
       "      <td>15.0</td>\n",
       "      <td>21.0</td>\n",
       "      <td>0.9946</td>\n",
       "      <td>3.39</td>\n",
       "      <td>0.47</td>\n",
       "      <td>10.0</td>\n",
       "      <td>7</td>\n",
       "    </tr>\n",
       "    <tr>\n",
       "      <th>8</th>\n",
       "      <td>7.8</td>\n",
       "      <td>0.580</td>\n",
       "      <td>0.02</td>\n",
       "      <td>2.0</td>\n",
       "      <td>0.073</td>\n",
       "      <td>9.0</td>\n",
       "      <td>18.0</td>\n",
       "      <td>0.9968</td>\n",
       "      <td>3.36</td>\n",
       "      <td>0.57</td>\n",
       "      <td>9.5</td>\n",
       "      <td>7</td>\n",
       "    </tr>\n",
       "    <tr>\n",
       "      <th>9</th>\n",
       "      <td>7.5</td>\n",
       "      <td>0.500</td>\n",
       "      <td>0.36</td>\n",
       "      <td>6.1</td>\n",
       "      <td>0.071</td>\n",
       "      <td>17.0</td>\n",
       "      <td>102.0</td>\n",
       "      <td>0.9978</td>\n",
       "      <td>3.35</td>\n",
       "      <td>0.80</td>\n",
       "      <td>10.5</td>\n",
       "      <td>5</td>\n",
       "    </tr>\n",
       "    <tr>\n",
       "      <th>10</th>\n",
       "      <td>6.7</td>\n",
       "      <td>0.580</td>\n",
       "      <td>0.08</td>\n",
       "      <td>1.8</td>\n",
       "      <td>0.097</td>\n",
       "      <td>15.0</td>\n",
       "      <td>65.0</td>\n",
       "      <td>0.9959</td>\n",
       "      <td>3.28</td>\n",
       "      <td>0.54</td>\n",
       "      <td>9.2</td>\n",
       "      <td>5</td>\n",
       "    </tr>\n",
       "    <tr>\n",
       "      <th>11</th>\n",
       "      <td>7.5</td>\n",
       "      <td>0.500</td>\n",
       "      <td>0.36</td>\n",
       "      <td>6.1</td>\n",
       "      <td>0.071</td>\n",
       "      <td>17.0</td>\n",
       "      <td>102.0</td>\n",
       "      <td>0.9978</td>\n",
       "      <td>3.35</td>\n",
       "      <td>0.80</td>\n",
       "      <td>10.5</td>\n",
       "      <td>5</td>\n",
       "    </tr>\n",
       "    <tr>\n",
       "      <th>12</th>\n",
       "      <td>5.6</td>\n",
       "      <td>0.615</td>\n",
       "      <td>0.00</td>\n",
       "      <td>1.6</td>\n",
       "      <td>0.089</td>\n",
       "      <td>16.0</td>\n",
       "      <td>59.0</td>\n",
       "      <td>0.9943</td>\n",
       "      <td>3.58</td>\n",
       "      <td>0.52</td>\n",
       "      <td>9.9</td>\n",
       "      <td>5</td>\n",
       "    </tr>\n",
       "    <tr>\n",
       "      <th>13</th>\n",
       "      <td>7.8</td>\n",
       "      <td>0.610</td>\n",
       "      <td>0.29</td>\n",
       "      <td>1.6</td>\n",
       "      <td>0.114</td>\n",
       "      <td>9.0</td>\n",
       "      <td>29.0</td>\n",
       "      <td>0.9974</td>\n",
       "      <td>3.26</td>\n",
       "      <td>1.56</td>\n",
       "      <td>9.1</td>\n",
       "      <td>5</td>\n",
       "    </tr>\n",
       "    <tr>\n",
       "      <th>14</th>\n",
       "      <td>8.9</td>\n",
       "      <td>0.620</td>\n",
       "      <td>0.18</td>\n",
       "      <td>3.8</td>\n",
       "      <td>0.176</td>\n",
       "      <td>52.0</td>\n",
       "      <td>145.0</td>\n",
       "      <td>0.9986</td>\n",
       "      <td>3.16</td>\n",
       "      <td>0.88</td>\n",
       "      <td>9.2</td>\n",
       "      <td>5</td>\n",
       "    </tr>\n",
       "    <tr>\n",
       "      <th>15</th>\n",
       "      <td>8.9</td>\n",
       "      <td>0.620</td>\n",
       "      <td>0.19</td>\n",
       "      <td>3.9</td>\n",
       "      <td>0.170</td>\n",
       "      <td>51.0</td>\n",
       "      <td>148.0</td>\n",
       "      <td>0.9986</td>\n",
       "      <td>3.17</td>\n",
       "      <td>0.93</td>\n",
       "      <td>9.2</td>\n",
       "      <td>5</td>\n",
       "    </tr>\n",
       "    <tr>\n",
       "      <th>16</th>\n",
       "      <td>8.5</td>\n",
       "      <td>0.280</td>\n",
       "      <td>0.56</td>\n",
       "      <td>1.8</td>\n",
       "      <td>0.092</td>\n",
       "      <td>35.0</td>\n",
       "      <td>103.0</td>\n",
       "      <td>0.9969</td>\n",
       "      <td>3.30</td>\n",
       "      <td>0.75</td>\n",
       "      <td>10.5</td>\n",
       "      <td>7</td>\n",
       "    </tr>\n",
       "    <tr>\n",
       "      <th>17</th>\n",
       "      <td>8.1</td>\n",
       "      <td>0.560</td>\n",
       "      <td>0.28</td>\n",
       "      <td>1.7</td>\n",
       "      <td>0.368</td>\n",
       "      <td>16.0</td>\n",
       "      <td>56.0</td>\n",
       "      <td>0.9968</td>\n",
       "      <td>3.11</td>\n",
       "      <td>1.28</td>\n",
       "      <td>9.3</td>\n",
       "      <td>5</td>\n",
       "    </tr>\n",
       "    <tr>\n",
       "      <th>18</th>\n",
       "      <td>7.4</td>\n",
       "      <td>0.590</td>\n",
       "      <td>0.08</td>\n",
       "      <td>4.4</td>\n",
       "      <td>0.086</td>\n",
       "      <td>6.0</td>\n",
       "      <td>29.0</td>\n",
       "      <td>0.9974</td>\n",
       "      <td>3.38</td>\n",
       "      <td>0.50</td>\n",
       "      <td>9.0</td>\n",
       "      <td>4</td>\n",
       "    </tr>\n",
       "    <tr>\n",
       "      <th>19</th>\n",
       "      <td>7.9</td>\n",
       "      <td>0.320</td>\n",
       "      <td>0.51</td>\n",
       "      <td>1.8</td>\n",
       "      <td>0.341</td>\n",
       "      <td>17.0</td>\n",
       "      <td>56.0</td>\n",
       "      <td>0.9969</td>\n",
       "      <td>3.04</td>\n",
       "      <td>1.08</td>\n",
       "      <td>9.2</td>\n",
       "      <td>6</td>\n",
       "    </tr>\n",
       "  </tbody>\n",
       "</table>\n",
       "</div>"
      ],
      "text/plain": [
       "    fixed acidity  volatile acidity  citric acid  residual sugar  chlorides  \\\n",
       "0             7.4             0.700         0.00             1.9      0.076   \n",
       "1             7.8             0.880         0.00             2.6      0.098   \n",
       "2             7.8             0.760         0.04             2.3      0.092   \n",
       "3            11.2             0.280         0.56             1.9      0.075   \n",
       "4             7.4             0.700         0.00             1.9      0.076   \n",
       "5             7.4             0.660         0.00             1.8      0.075   \n",
       "6             7.9             0.600         0.06             1.6      0.069   \n",
       "7             7.3             0.650         0.00             1.2      0.065   \n",
       "8             7.8             0.580         0.02             2.0      0.073   \n",
       "9             7.5             0.500         0.36             6.1      0.071   \n",
       "10            6.7             0.580         0.08             1.8      0.097   \n",
       "11            7.5             0.500         0.36             6.1      0.071   \n",
       "12            5.6             0.615         0.00             1.6      0.089   \n",
       "13            7.8             0.610         0.29             1.6      0.114   \n",
       "14            8.9             0.620         0.18             3.8      0.176   \n",
       "15            8.9             0.620         0.19             3.9      0.170   \n",
       "16            8.5             0.280         0.56             1.8      0.092   \n",
       "17            8.1             0.560         0.28             1.7      0.368   \n",
       "18            7.4             0.590         0.08             4.4      0.086   \n",
       "19            7.9             0.320         0.51             1.8      0.341   \n",
       "\n",
       "    free sulfur dioxide  total sulfur dioxide  density    pH  sulphates  \\\n",
       "0                  11.0                  34.0   0.9978  3.51       0.56   \n",
       "1                  25.0                  67.0   0.9968  3.20       0.68   \n",
       "2                  15.0                  54.0   0.9970  3.26       0.65   \n",
       "3                  17.0                  60.0   0.9980  3.16       0.58   \n",
       "4                  11.0                  34.0   0.9978  3.51       0.56   \n",
       "5                  13.0                  40.0   0.9978  3.51       0.56   \n",
       "6                  15.0                  59.0   0.9964  3.30       0.46   \n",
       "7                  15.0                  21.0   0.9946  3.39       0.47   \n",
       "8                   9.0                  18.0   0.9968  3.36       0.57   \n",
       "9                  17.0                 102.0   0.9978  3.35       0.80   \n",
       "10                 15.0                  65.0   0.9959  3.28       0.54   \n",
       "11                 17.0                 102.0   0.9978  3.35       0.80   \n",
       "12                 16.0                  59.0   0.9943  3.58       0.52   \n",
       "13                  9.0                  29.0   0.9974  3.26       1.56   \n",
       "14                 52.0                 145.0   0.9986  3.16       0.88   \n",
       "15                 51.0                 148.0   0.9986  3.17       0.93   \n",
       "16                 35.0                 103.0   0.9969  3.30       0.75   \n",
       "17                 16.0                  56.0   0.9968  3.11       1.28   \n",
       "18                  6.0                  29.0   0.9974  3.38       0.50   \n",
       "19                 17.0                  56.0   0.9969  3.04       1.08   \n",
       "\n",
       "    alcohol  quality  \n",
       "0       9.4        5  \n",
       "1       9.8        5  \n",
       "2       9.8        5  \n",
       "3       9.8        6  \n",
       "4       9.4        5  \n",
       "5       9.4        5  \n",
       "6       9.4        5  \n",
       "7      10.0        7  \n",
       "8       9.5        7  \n",
       "9      10.5        5  \n",
       "10      9.2        5  \n",
       "11     10.5        5  \n",
       "12      9.9        5  \n",
       "13      9.1        5  \n",
       "14      9.2        5  \n",
       "15      9.2        5  \n",
       "16     10.5        7  \n",
       "17      9.3        5  \n",
       "18      9.0        4  \n",
       "19      9.2        6  "
      ]
     },
     "execution_count": 3,
     "metadata": {},
     "output_type": "execute_result"
    }
   ],
   "source": [
    "data.head(20)"
   ]
  },
  {
   "cell_type": "code",
   "execution_count": 4,
   "metadata": {},
   "outputs": [
    {
     "data": {
      "text/plain": [
       "(1599, 12)"
      ]
     },
     "execution_count": 4,
     "metadata": {},
     "output_type": "execute_result"
    }
   ],
   "source": [
    "data.shape"
   ]
  },
  {
   "cell_type": "markdown",
   "metadata": {},
   "source": [
    "# 3. Analizar datos"
   ]
  },
  {
   "cell_type": "code",
   "execution_count": 5,
   "metadata": {},
   "outputs": [],
   "source": [
    "# metodos graficos\n",
    "def obtainListForPlotting(xValues,yValues,filter_value):   \n",
    "    values = {}\n",
    "    for i in range(len(xValues)):\n",
    "        if yValues[i] == filter_value:\n",
    "            if xValues[i] in values:\n",
    "                pass\n",
    "            else:\n",
    "                values[xValues[i]] = 1\n",
    "    keys = []\n",
    "    for k in values.keys():\n",
    "        keys.append(k)\n",
    "    keys.sort()\n",
    "    x = []\n",
    "    y = []\n",
    "    for e in keys:\n",
    "        x.append(e)\n",
    "        y.append(values[e])\n",
    "    return x,y"
   ]
  },
  {
   "cell_type": "markdown",
   "metadata": {},
   "source": [
    "### Quality"
   ]
  },
  {
   "cell_type": "code",
   "execution_count": 6,
   "metadata": {},
   "outputs": [
    {
     "data": {
      "text/plain": [
       "array([5, 6, 7, 4, 8, 3], dtype=int64)"
      ]
     },
     "execution_count": 6,
     "metadata": {},
     "output_type": "execute_result"
    }
   ],
   "source": [
    "quality_range = data[\"quality\"].unique()\n",
    "quality_range"
   ]
  },
  {
   "cell_type": "code",
   "execution_count": 7,
   "metadata": {},
   "outputs": [
    {
     "data": {
      "text/plain": [
       "<matplotlib.axes._subplots.AxesSubplot at 0x285b0900b20>"
      ]
     },
     "execution_count": 7,
     "metadata": {},
     "output_type": "execute_result"
    },
    {
     "data": {
      "image/png": "[encoded data removed]",
      "text/plain": [
       "<Figure size 432x288 with 1 Axes>"
      ]
     },
     "metadata": {
      "needs_background": "light"
     },
     "output_type": "display_data"
    }
   ],
   "source": [
    "sns.countplot(x='quality',data=data,palette='Blues')"
   ]
  },
  {
   "cell_type": "markdown",
   "metadata": {},
   "source": [
    "### fixed acidity\n",
    "\n",
    "Los promedios de valores de ''fixed acidity son similares entre los valides de calidad del vino"
   ]
  },
  {
   "cell_type": "code",
   "execution_count": 8,
   "metadata": {},
   "outputs": [
    {
     "data": {
      "image/png": "[encoded data removed]",
      "text/plain": [
       "<Figure size 432x288 with 1 Axes>"
      ]
     },
     "metadata": {
      "needs_background": "light"
     },
     "output_type": "display_data"
    }
   ],
   "source": [
    "label_selected_name = 'fixed acidity'\n",
    "label_quality_name = 'quality'\n",
    "d3 = data[data[label_quality_name]==3][label_selected_name].tolist()\n",
    "d4 = data[data[label_quality_name]==4][label_selected_name].tolist()\n",
    "d5 = data[data[label_quality_name]==5][label_selected_name].tolist()\n",
    "d6 = data[data[label_quality_name]==6][label_selected_name].tolist()\n",
    "d7 = data[data[label_quality_name]==7][label_selected_name].tolist()\n",
    "d8 = data[data[label_quality_name]==8][label_selected_name].tolist()\n",
    "\n",
    "plt.xlabel(label_quality_name)\n",
    "plt.ylabel(label_selected_name)\n",
    "plt.boxplot([d3,d4,d5,d6,d7,d8], positions=[3,4,5,6,7,8])\n",
    "plt.show()"
   ]
  },
  {
   "cell_type": "markdown",
   "metadata": {},
   "source": [
    "### volatile acidity\n",
    "\n",
    "Entre menor calidad, el vino tiene mas 'volatile acidity'"
   ]
  },
  {
   "cell_type": "code",
   "execution_count": 9,
   "metadata": {},
   "outputs": [
    {
     "data": {
      "image/png": "[encoded data removed]",
      "text/plain": [
       "<Figure size 432x288 with 1 Axes>"
      ]
     },
     "metadata": {
      "needs_background": "light"
     },
     "output_type": "display_data"
    }
   ],
   "source": [
    "label_selected_name = 'volatile acidity'\n",
    "label_quality_name = 'quality'\n",
    "d3 = data[data[label_quality_name]==3][label_selected_name].tolist()\n",
    "d4 = data[data[label_quality_name]==4][label_selected_name].tolist()\n",
    "d5 = data[data[label_quality_name]==5][label_selected_name].tolist()\n",
    "d6 = data[data[label_quality_name]==6][label_selected_name].tolist()\n",
    "d7 = data[data[label_quality_name]==7][label_selected_name].tolist()\n",
    "d8 = data[data[label_quality_name]==8][label_selected_name].tolist()\n",
    "\n",
    "plt.xlabel(label_quality_name)\n",
    "plt.ylabel(label_selected_name)\n",
    "plt.boxplot([d3,d4,d5,d6,d7,d8], positions=[3,4,5,6,7,8])\n",
    "plt.show()"
   ]
  },
  {
   "cell_type": "markdown",
   "metadata": {},
   "source": [
    "### citric acid\n",
    "\n",
    "Entre mas calidad, el vino tiene mayor concentracion de 'citric acid'"
   ]
  },
  {
   "cell_type": "code",
   "execution_count": 10,
   "metadata": {},
   "outputs": [
    {
     "data": {
      "image/png": "[encoded data removed]",
      "text/plain": [
       "<Figure size 432x288 with 1 Axes>"
      ]
     },
     "metadata": {
      "needs_background": "light"
     },
     "output_type": "display_data"
    }
   ],
   "source": [
    "label_selected_name = 'citric acid'\n",
    "label_quality_name = 'quality'\n",
    "d3 = data[data[label_quality_name]==3][label_selected_name].tolist()\n",
    "d4 = data[data[label_quality_name]==4][label_selected_name].tolist()\n",
    "d5 = data[data[label_quality_name]==5][label_selected_name].tolist()\n",
    "d6 = data[data[label_quality_name]==6][label_selected_name].tolist()\n",
    "d7 = data[data[label_quality_name]==7][label_selected_name].tolist()\n",
    "d8 = data[data[label_quality_name]==8][label_selected_name].tolist()\n",
    "\n",
    "plt.xlabel(label_quality_name)\n",
    "plt.ylabel(label_selected_name)\n",
    "plt.boxplot([d3,d4,d5,d6,d7,d8], positions=[3,4,5,6,7,8])\n",
    "plt.show()"
   ]
  },
  {
   "cell_type": "markdown",
   "metadata": {},
   "source": [
    "### residual sugar\n",
    "\n",
    "Los promedios de valores de 'residual sugar' son similares entre los valides de calidad del vino"
   ]
  },
  {
   "cell_type": "code",
   "execution_count": 11,
   "metadata": {},
   "outputs": [
    {
     "data": {
      "image/png": "[encoded data removed]",
      "text/plain": [
       "<Figure size 432x288 with 1 Axes>"
      ]
     },
     "metadata": {
      "needs_background": "light"
     },
     "output_type": "display_data"
    }
   ],
   "source": [
    "label_selected_name = 'residual sugar'\n",
    "label_quality_name = 'quality'\n",
    "d3 = data[data[label_quality_name]==3][label_selected_name].tolist()\n",
    "d4 = data[data[label_quality_name]==4][label_selected_name].tolist()\n",
    "d5 = data[data[label_quality_name]==5][label_selected_name].tolist()\n",
    "d6 = data[data[label_quality_name]==6][label_selected_name].tolist()\n",
    "d7 = data[data[label_quality_name]==7][label_selected_name].tolist()\n",
    "d8 = data[data[label_quality_name]==8][label_selected_name].tolist()\n",
    "\n",
    "plt.xlabel(label_quality_name)\n",
    "plt.ylabel(label_selected_name)\n",
    "plt.boxplot([d3,d4,d5,d6,d7,d8], positions=[3,4,5,6,7,8])\n",
    "plt.show()"
   ]
  },
  {
   "cell_type": "markdown",
   "metadata": {},
   "source": [
    "### chlorides\n",
    "\n",
    "Los promedios de valores de 'chlorides' son similares entre los valides de calidad del vino, con un ligero incremento en los de baja calidad (3)"
   ]
  },
  {
   "cell_type": "code",
   "execution_count": 12,
   "metadata": {},
   "outputs": [
    {
     "data": {
      "image/png": "[encoded data removed]",
      "text/plain": [
       "<Figure size 432x288 with 1 Axes>"
      ]
     },
     "metadata": {
      "needs_background": "light"
     },
     "output_type": "display_data"
    }
   ],
   "source": [
    "label_selected_name = 'chlorides'\n",
    "label_quality_name = 'quality'\n",
    "d3 = data[data[label_quality_name]==3][label_selected_name].tolist()\n",
    "d4 = data[data[label_quality_name]==4][label_selected_name].tolist()\n",
    "d5 = data[data[label_quality_name]==5][label_selected_name].tolist()\n",
    "d6 = data[data[label_quality_name]==6][label_selected_name].tolist()\n",
    "d7 = data[data[label_quality_name]==7][label_selected_name].tolist()\n",
    "d8 = data[data[label_quality_name]==8][label_selected_name].tolist()\n",
    "\n",
    "plt.xlabel(label_quality_name)\n",
    "plt.ylabel(label_selected_name)\n",
    "plt.boxplot([d3,d4,d5,d6,d7,d8], positions=[3,4,5,6,7,8])\n",
    "plt.show()"
   ]
  },
  {
   "cell_type": "markdown",
   "metadata": {},
   "source": [
    "### free sulfur dioxide\n",
    "\n",
    "Para los vinos de calidad media (5,6) se nota un ligero incremento en el valor de 'free sulfur dioxide'"
   ]
  },
  {
   "cell_type": "code",
   "execution_count": 13,
   "metadata": {},
   "outputs": [
    {
     "data": {
      "image/png": "[encoded data removed]",
      "text/plain": [
       "<Figure size 432x288 with 1 Axes>"
      ]
     },
     "metadata": {
      "needs_background": "light"
     },
     "output_type": "display_data"
    }
   ],
   "source": [
    "label_selected_name = 'free sulfur dioxide'\n",
    "label_quality_name = 'quality'\n",
    "d3 = data[data[label_quality_name]==3][label_selected_name].tolist()\n",
    "d4 = data[data[label_quality_name]==4][label_selected_name].tolist()\n",
    "d5 = data[data[label_quality_name]==5][label_selected_name].tolist()\n",
    "d6 = data[data[label_quality_name]==6][label_selected_name].tolist()\n",
    "d7 = data[data[label_quality_name]==7][label_selected_name].tolist()\n",
    "d8 = data[data[label_quality_name]==8][label_selected_name].tolist()\n",
    "\n",
    "plt.xlabel(label_quality_name)\n",
    "plt.ylabel(label_selected_name)\n",
    "plt.boxplot([d3,d4,d5,d6,d7,d8], positions=[3,4,5,6,7,8])\n",
    "plt.show()"
   ]
  },
  {
   "cell_type": "markdown",
   "metadata": {},
   "source": [
    "### total sulfur dioxide\n",
    "\n",
    "Para los vinos de calidad media (5,6) se nota un ligero incremento en el valor de 'total sulfur dioxide'"
   ]
  },
  {
   "cell_type": "code",
   "execution_count": 14,
   "metadata": {},
   "outputs": [
    {
     "data": {
      "image/png": "[encoded data removed]",
      "text/plain": [
       "<Figure size 432x288 with 1 Axes>"
      ]
     },
     "metadata": {
      "needs_background": "light"
     },
     "output_type": "display_data"
    }
   ],
   "source": [
    "label_selected_name = 'total sulfur dioxide'\n",
    "label_quality_name = 'quality'\n",
    "d3 = data[data[label_quality_name]==3][label_selected_name].tolist()\n",
    "d4 = data[data[label_quality_name]==4][label_selected_name].tolist()\n",
    "d5 = data[data[label_quality_name]==5][label_selected_name].tolist()\n",
    "d6 = data[data[label_quality_name]==6][label_selected_name].tolist()\n",
    "d7 = data[data[label_quality_name]==7][label_selected_name].tolist()\n",
    "d8 = data[data[label_quality_name]==8][label_selected_name].tolist()\n",
    "\n",
    "plt.xlabel(label_quality_name)\n",
    "plt.ylabel(label_selected_name)\n",
    "plt.boxplot([d3,d4,d5,d6,d7,d8], positions=[3,4,5,6,7,8])\n",
    "plt.show()"
   ]
  },
  {
   "cell_type": "markdown",
   "metadata": {},
   "source": [
    "### density\n",
    "\n",
    "Los promedios de valores de 'density' son similares entre los valides de calidad del vino"
   ]
  },
  {
   "cell_type": "code",
   "execution_count": 15,
   "metadata": {},
   "outputs": [
    {
     "data": {
      "image/png": "[encoded data removed]",
      "text/plain": [
       "<Figure size 432x288 with 1 Axes>"
      ]
     },
     "metadata": {
      "needs_background": "light"
     },
     "output_type": "display_data"
    }
   ],
   "source": [
    "label_selected_name = 'density'\n",
    "label_quality_name = 'quality'\n",
    "d3 = data[data[label_quality_name]==3][label_selected_name].tolist()\n",
    "d4 = data[data[label_quality_name]==4][label_selected_name].tolist()\n",
    "d5 = data[data[label_quality_name]==5][label_selected_name].tolist()\n",
    "d6 = data[data[label_quality_name]==6][label_selected_name].tolist()\n",
    "d7 = data[data[label_quality_name]==7][label_selected_name].tolist()\n",
    "d8 = data[data[label_quality_name]==8][label_selected_name].tolist()\n",
    "\n",
    "plt.xlabel(label_quality_name)\n",
    "plt.ylabel(label_selected_name)\n",
    "plt.boxplot([d3,d4,d5,d6,d7,d8], positions=[3,4,5,6,7,8])\n",
    "plt.show()"
   ]
  },
  {
   "cell_type": "markdown",
   "metadata": {},
   "source": [
    "### pH\n",
    "\n",
    "Los promedios de valores de 'pH' son similares entre los valides de calidad del vino"
   ]
  },
  {
   "cell_type": "code",
   "execution_count": 16,
   "metadata": {},
   "outputs": [
    {
     "data": {
      "image/png": "[encoded data removed]",
      "text/plain": [
       "<Figure size 432x288 with 1 Axes>"
      ]
     },
     "metadata": {
      "needs_background": "light"
     },
     "output_type": "display_data"
    }
   ],
   "source": [
    "label_selected_name = 'pH'\n",
    "label_quality_name = 'quality'\n",
    "d3 = data[data[label_quality_name]==3][label_selected_name].tolist()\n",
    "d4 = data[data[label_quality_name]==4][label_selected_name].tolist()\n",
    "d5 = data[data[label_quality_name]==5][label_selected_name].tolist()\n",
    "d6 = data[data[label_quality_name]==6][label_selected_name].tolist()\n",
    "d7 = data[data[label_quality_name]==7][label_selected_name].tolist()\n",
    "d8 = data[data[label_quality_name]==8][label_selected_name].tolist()\n",
    "\n",
    "plt.xlabel(label_quality_name)\n",
    "plt.ylabel(label_selected_name)\n",
    "plt.boxplot([d3,d4,d5,d6,d7,d8], positions=[3,4,5,6,7,8])\n",
    "plt.show()"
   ]
  },
  {
   "cell_type": "markdown",
   "metadata": {},
   "source": [
    "### sulphates\t\n",
    "\n",
    "Entre mas calidad del vino se evidencia un valor superior de 'sulphates'"
   ]
  },
  {
   "cell_type": "code",
   "execution_count": 17,
   "metadata": {},
   "outputs": [
    {
     "data": {
      "image/png": "[encoded data removed]",
      "text/plain": [
       "<Figure size 432x288 with 1 Axes>"
      ]
     },
     "metadata": {
      "needs_background": "light"
     },
     "output_type": "display_data"
    }
   ],
   "source": [
    "label_selected_name = 'sulphates'\n",
    "label_quality_name = 'quality'\n",
    "d3 = data[data[label_quality_name]==3][label_selected_name].tolist()\n",
    "d4 = data[data[label_quality_name]==4][label_selected_name].tolist()\n",
    "d5 = data[data[label_quality_name]==5][label_selected_name].tolist()\n",
    "d6 = data[data[label_quality_name]==6][label_selected_name].tolist()\n",
    "d7 = data[data[label_quality_name]==7][label_selected_name].tolist()\n",
    "d8 = data[data[label_quality_name]==8][label_selected_name].tolist()\n",
    "\n",
    "plt.xlabel(label_quality_name)\n",
    "plt.ylabel(label_selected_name)\n",
    "plt.boxplot([d3,d4,d5,d6,d7,d8], positions=[3,4,5,6,7,8])\n",
    "plt.show()"
   ]
  },
  {
   "cell_type": "markdown",
   "metadata": {},
   "source": [
    "### alcohol\n",
    "\n",
    "Entre mas calidad del vino se evidencia un valor superior de 'alcohol'"
   ]
  },
  {
   "cell_type": "code",
   "execution_count": 18,
   "metadata": {},
   "outputs": [
    {
     "data": {
      "image/png": "[encoded data removed]",
      "text/plain": [
       "<Figure size 432x288 with 1 Axes>"
      ]
     },
     "metadata": {
      "needs_background": "light"
     },
     "output_type": "display_data"
    }
   ],
   "source": [
    "label_selected_name = 'alcohol'\n",
    "label_quality_name = 'quality'\n",
    "d3 = data[data[label_quality_name]==3][label_selected_name].tolist()\n",
    "d4 = data[data[label_quality_name]==4][label_selected_name].tolist()\n",
    "d5 = data[data[label_quality_name]==5][label_selected_name].tolist()\n",
    "d6 = data[data[label_quality_name]==6][label_selected_name].tolist()\n",
    "d7 = data[data[label_quality_name]==7][label_selected_name].tolist()\n",
    "d8 = data[data[label_quality_name]==8][label_selected_name].tolist()\n",
    "\n",
    "plt.xlabel(label_quality_name)\n",
    "plt.ylabel(label_selected_name)\n",
    "plt.boxplot([d3,d4,d5,d6,d7,d8], positions=[3,4,5,6,7,8])\n",
    "plt.show()"
   ]
  },
  {
   "cell_type": "markdown",
   "metadata": {},
   "source": [
    "# 4. Preprosesamiento de datos"
   ]
  },
  {
   "cell_type": "markdown",
   "metadata": {},
   "source": [
    "### Dividir datos en 'X' & 'y'"
   ]
  },
  {
   "cell_type": "code",
   "execution_count": 19,
   "metadata": {},
   "outputs": [],
   "source": [
    "X = data.loc[:,data.columns != 'quality']\n",
    "y = data.loc[:,data.columns == 'quality']"
   ]
  },
  {
   "cell_type": "markdown",
   "metadata": {},
   "source": [
    "### comprobar valores nulos"
   ]
  },
  {
   "cell_type": "code",
   "execution_count": 20,
   "metadata": {},
   "outputs": [
    {
     "data": {
      "text/plain": [
       "False"
      ]
     },
     "execution_count": 20,
     "metadata": {},
     "output_type": "execute_result"
    }
   ],
   "source": [
    "data.isnull().values.any()"
   ]
  },
  {
   "cell_type": "markdown",
   "metadata": {},
   "source": [
    "# 5. Segmentacion Kmeans"
   ]
  },
  {
   "cell_type": "markdown",
   "metadata": {},
   "source": [
    "### Segmentar con Kmeans"
   ]
  },
  {
   "cell_type": "code",
   "execution_count": 21,
   "metadata": {},
   "outputs": [],
   "source": [
    "K = range(1,20)\n",
    "\n",
    "executions = []\n",
    "distortions = []\n",
    "inertias = []\n",
    "\n",
    "for k in K:\n",
    "    \n",
    "    kmeanModel = KMeans(n_clusters=k).fit(X)\n",
    "    executions.append(kmeanModel)\n",
    "    \n",
    "    distortions.append(sum(np.min(cdist(X,kmeanModel.cluster_centers_,'euclidean'),axis=1)/X.shape[0]))\n",
    "    inertias.append(kmeanModel.inertia_)\n"
   ]
  },
  {
   "cell_type": "markdown",
   "metadata": {},
   "source": [
    "### Metodo del codo (Elbow method)\n",
    "\n",
    "Se puede evidenciar en el grafico que la segmentacion en 6 grupos resulta favorable, aunque segun el grafico de varianzas, el punto que contiene el cambio de concavidad (Punto de inflexion) resulta ser 7, el cual seria el optimo para segmentar los datos"
   ]
  },
  {
   "cell_type": "code",
   "execution_count": 22,
   "metadata": {},
   "outputs": [
    {
     "data": {
      "image/png": "[encoded data removed]",
      "text/plain": [
       "<Figure size 432x288 with 1 Axes>"
      ]
     },
     "metadata": {
      "needs_background": "light"
     },
     "output_type": "display_data"
    }
   ],
   "source": [
    "plt.plot(K,inertias,'bx--')\n",
    "plt.xlabel('Values of K')\n",
    "plt.ylabel('Inertia')\n",
    "plt.title('Elbow method using inertia')\n",
    "plt.show()"
   ]
  },
  {
   "cell_type": "markdown",
   "metadata": {},
   "source": [
    "# 6. K Vecinos"
   ]
  },
  {
   "cell_type": "code",
   "execution_count": 23,
   "metadata": {},
   "outputs": [
    {
     "name": "stdout",
     "output_type": "stream",
     "text": [
      "(1599, 11)\n",
      "(1599, 1)\n"
     ]
    }
   ],
   "source": [
    "print(X.shape)\n",
    "print(y.shape)"
   ]
  },
  {
   "cell_type": "code",
   "execution_count": 24,
   "metadata": {},
   "outputs": [
    {
     "name": "stderr",
     "output_type": "stream",
     "text": [
      "<ipython-input-24-95aaf001071a>:2: DataConversionWarning: A column-vector y was passed when a 1d array was expected. Please change the shape of y to (n_samples, ), for example using ravel().\n",
      "  neigh.fit(X, y)\n"
     ]
    },
    {
     "data": {
      "text/plain": [
       "KNeighborsClassifier(n_neighbors=1)"
      ]
     },
     "execution_count": 24,
     "metadata": {},
     "output_type": "execute_result"
    }
   ],
   "source": [
    "neigh = KNeighborsClassifier(n_neighbors=1)\n",
    "neigh.fit(X, y)"
   ]
  },
  {
   "cell_type": "markdown",
   "metadata": {},
   "source": [
    "# 7. Predicciones"
   ]
  },
  {
   "cell_type": "markdown",
   "metadata": {},
   "source": [
    "### ingresar nuevos datos (Vinos)"
   ]
  },
  {
   "cell_type": "code",
   "execution_count": 25,
   "metadata": {},
   "outputs": [],
   "source": [
    "segmentos = 6\n",
    "\n",
    "nuevo_dato_low = {\n",
    "    'fixed acidity': [5.7],\n",
    "    'volatile acidity': [1.13],\n",
    "    'citric acid': [0.09],\n",
    "    'residual sugar': [1.5],\n",
    "    'chlorides': [0.172],\n",
    "    'free sulfur dioxide': [7.0],\n",
    "    'total sulfur dioxide': [19.0],\n",
    "    'density': [0.9940],\n",
    "    'pH': [3.5],\n",
    "    'sulphates': [0.48],\n",
    "    'alcohol': [9.8]\n",
    "}\n",
    "\n",
    "nuevo_dato_mid = {\n",
    "    'fixed acidity': [7.4],\n",
    "    'volatile acidity': [0.70],\n",
    "    'citric acid': [0.00],\n",
    "    'residual sugar': [1.9],\n",
    "    'chlorides': [0.076],\n",
    "    'free sulfur dioxide': [11.0],\n",
    "    'total sulfur dioxide': [34.0],\n",
    "    'density': [0.9978],\n",
    "    'pH': [3.1],\n",
    "    'sulphates': [1.56],\n",
    "    'alcohol': [12.4]\n",
    "}\n",
    "\n",
    "nuevo_dato_high = {\n",
    "    'fixed acidity': [8.5],\n",
    "    'volatile acidity': [0.28],\n",
    "    'citric acid': [0.56],\n",
    "    'residual sugar': [1.8],\n",
    "    'chlorides': [0.092],\n",
    "    'free sulfur dioxide': [35.0],\n",
    "    'total sulfur dioxide': [103.0],\n",
    "    'density': [0.9968],\n",
    "    'pH': [3.3],\n",
    "    'sulphates': [0.75],\n",
    "    'alcohol': [10.5]\n",
    "}\n",
    "\n",
    "df_low = pd.DataFrame(nuevo_dato_low)\n",
    "df_mid = pd.DataFrame(nuevo_dato_mid)\n",
    "df_high = pd.DataFrame(nuevo_dato_high)"
   ]
  },
  {
   "cell_type": "markdown",
   "metadata": {},
   "source": [
    "### predecir la calidad del nuevo dato (Vino)"
   ]
  },
  {
   "cell_type": "code",
   "execution_count": 26,
   "metadata": {},
   "outputs": [
    {
     "name": "stdout",
     "output_type": "stream",
     "text": [
      "Segun la informacion ingresada, el modelo predice que se le asigna una calidad:\n",
      "Dato 1: 4\n",
      "Dato 2: 6\n",
      "Dato 3: 7\n"
     ]
    },
    {
     "data": {
      "image/png": "[encoded data removed]",
      "text/plain": [
       "<Figure size 432x288 with 1 Axes>"
      ]
     },
     "metadata": {
      "needs_background": "light"
     },
     "output_type": "display_data"
    }
   ],
   "source": [
    "def predict_value(i_df):\n",
    "    \n",
    "    to_predict = i_df.iloc[0]\n",
    "\n",
    "    prediction = neigh.predict([[\n",
    "        to_predict['fixed acidity'],\n",
    "        to_predict['volatile acidity'],\n",
    "        to_predict['citric acid'],\n",
    "        to_predict['residual sugar'],\n",
    "        to_predict['chlorides'],\n",
    "        to_predict['free sulfur dioxide'],\n",
    "        to_predict['total sulfur dioxide'],\n",
    "        to_predict['density'],\n",
    "        to_predict['pH'],\n",
    "        to_predict['sulphates'],\n",
    "        to_predict['alcohol'],\n",
    "    ]])\n",
    "    \n",
    "    return prediction[0]\n",
    "\n",
    "p1 = predict_value(df_low)\n",
    "p2 = predict_value(df_mid)\n",
    "p3 = predict_value(df_high)\n",
    "\n",
    "\n",
    "print(\"Segun la informacion ingresada, el modelo predice que se le asigna una calidad:\")\n",
    "print(\"Dato 1: %d\"%(p1))\n",
    "print(\"Dato 2: %d\"%(p2))\n",
    "print(\"Dato 3: %d\"%(p3))\n",
    "\n",
    "# graficar el nivel de la calidad del dato ingresado\n",
    "labels = ['Dato 1','Dato 2', 'Dato 3']\n",
    "values = [p1,p2,p3]\n",
    "plt.barh(labels, values)\n",
    "plt.xlabel('quality')\n",
    "plt.xlim(0,8)\n",
    "plt.show()"
   ]
  },
  {
   "cell_type": "code",
   "execution_count": null,
   "metadata": {},
   "outputs": [],
   "source": []
  }
 ],
 "metadata": {
  "kernelspec": {
   "display_name": "Python 3",
   "language": "python",
   "name": "python3"
  },
  "language_info": {
   "codemirror_mode": {
    "name": "ipython",
    "version": 3
   },
   "file_extension": ".py",
   "mimetype": "text/x-python",
   "name": "python",
   "nbconvert_exporter": "python",
   "pygments_lexer": "ipython3",
   "version": "3.8.3"
  }
 },
 "nbformat": 4,
 "nbformat_minor": 4
}
